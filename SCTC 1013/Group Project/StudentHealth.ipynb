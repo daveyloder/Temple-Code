{
 "cells": [
  {
   "cell_type": "markdown",
   "id": "527714ec-e0b7-4e70-9a57-b03804428342",
   "metadata": {},
   "source": [
    "# Project Student Mental Health  - Data Eagles"
   ]
  },
  {
   "cell_type": "markdown",
   "id": "8f16f342-5a0c-4711-b6a5-546ccdbaadb0",
   "metadata": {
    "tags": []
   },
   "source": [
    "By David Loder, Dorothy Monneh Singbe, Aidan Kearney, Aamenah Cheema"
   ]
  },
  {
   "cell_type": "markdown",
   "id": "1a87f8c4-ee64-4a58-b4b4-381da6e5097b",
   "metadata": {},
   "source": [
    "## What is the Project Focus and Dataset of the project?\n",
    "- The Project Focus is exploring Student Mental Health and how it affects students. \n",
    "- The Dataset is a survey collection from students attending the International Islamic University of Malaysia in the year of 2020. The reason we chose this as it was the best information we could find on mental health with the realistic goal of understanding the data in two weeks.\n",
    "\n",
    "\n",
    "\n",
    "## Data Exploration\n",
    "- Top Majors that suffer from depression\n",
    "- Explanation of some majors\n",
    "- Male & Female Comparison\n",
    "- Numbers for those seeking treatment\n",
    "\n",
    "## Hypothesis\n",
    "- Students of a specific gender in this dataset is more likey to have higher mental issues than another.\n",
    "- Students who attend this school that major in science or technical majors are more like to suffer from depression, anxiety, or panic attacks.\n",
    "\n",
    "## Probability\n",
    "- Probability of those majors suffering from mental disorder\n",
    "\n",
    "## Sampling\n",
    "- Run a sample of 1000 students"
   ]
  },
  {
   "cell_type": "markdown",
   "id": "7ed1addc-a629-4a4a-9e7c-fb02301d625b",
   "metadata": {},
   "source": [
    "https://www.kaggle.com/datasets/shariful07/student-mental-health?resource=download"
   ]
  },
  {
   "cell_type": "markdown",
   "id": "30b6fb72-e243-4f78-8af3-325e54bf4d88",
   "metadata": {},
   "source": [
    "The Data collected from International Islamic University Malaysia"
   ]
  },
  {
   "cell_type": "code",
   "execution_count": 14,
   "id": "de1f565c-c4c5-45d8-9846-73075f3d75a4",
   "metadata": {
    "tags": []
   },
   "outputs": [],
   "source": [
    "# Import Numpy and Datascience modules.\n",
    "import math\n",
    "import numpy as np\n",
    "import pandas as pd\n",
    "from datascience import *\n",
    "\n",
    "# Plotting modules\n",
    "import matplotlib\n",
    "%matplotlib inline\n",
    "import matplotlib.pyplot as plt\n",
    "plt.style.use('fivethirtyeight')\n",
    "import warnings\n",
    "warnings.simplefilter('ignore', UserWarning)\n",
    "# Fix for datascience collections Iterable\n",
    "import collections as collections\n",
    "import collections.abc as abc\n",
    "collections.Iterable = abc.Iterable"
   ]
  },
  {
   "cell_type": "markdown",
   "id": "efd335d5-8087-48f6-8239-0c4390a39f6c",
   "metadata": {},
   "source": [
    "## Data Exploration"
   ]
  },
  {
   "cell_type": "markdown",
   "id": "3d480e4a-8049-46a4-94c4-9fb9cc163898",
   "metadata": {
    "tags": []
   },
   "source": [
    "#### Functions for project"
   ]
  },
  {
   "cell_type": "code",
   "execution_count": 15,
   "id": "03314941-07f0-4f0f-b508-5917f96198dc",
   "metadata": {
    "tags": []
   },
   "outputs": [],
   "source": [
    "def relabel(table,column,search,replace):\n",
    "    for i in range(len(table.column(column))):\n",
    "        if search.lower() == table.column(column)[i].lower():\n",
    "            table.column(column)[i] = replace\n",
    "        else:\n",
    "            pass"
   ]
  },
  {
   "cell_type": "markdown",
   "id": "ce3fbe2f-4cf2-4bdd-8237-33c8e4d496be",
   "metadata": {},
   "source": [
    "### The Dataset"
   ]
  },
  {
   "cell_type": "markdown",
   "id": "13ff6ae4-fb84-467e-8407-0feb72638e5c",
   "metadata": {},
   "source": [
    "The Dataset is a survey collection from students attending the International Islamic University of Malaysia in the year of 2020.The total amount of students who took the survey is 101. "
   ]
  },
  {
   "cell_type": "code",
   "execution_count": 16,
   "id": "2ea2193a-d646-43e8-a51f-0ab072fa4792",
   "metadata": {
    "tags": []
   },
   "outputs": [
    {
     "data": {
      "text/html": [
       "<table border=\"1\" class=\"dataframe\">\n",
       "    <thead>\n",
       "        <tr>\n",
       "            <th>Timestamp</th> <th>Gender</th> <th>Age</th> <th>Major</th> <th>Year</th> <th>GPA</th> <th>Married</th> <th>Depression</th> <th>Anxiety</th> <th>Panic Attacks</th> <th>Treatment</th>\n",
       "        </tr>\n",
       "    </thead>\n",
       "    <tbody>\n",
       "        <tr>\n",
       "            <td>8/7/2020 12:02</td> <td>Female</td> <td>18  </td> <td>Engineering            </td> <td>year 1</td> <td>3.00 - 3.49 </td> <td>No     </td> <td>Yes       </td> <td>No     </td> <td>Yes          </td> <td>No       </td>\n",
       "        </tr>\n",
       "        <tr>\n",
       "            <td>8/7/2020 12:04</td> <td>Male  </td> <td>21  </td> <td>Islamic education      </td> <td>year 2</td> <td>3.00 - 3.49 </td> <td>No     </td> <td>No        </td> <td>Yes    </td> <td>No           </td> <td>No       </td>\n",
       "        </tr>\n",
       "        <tr>\n",
       "            <td>8/7/2020 12:05</td> <td>Male  </td> <td>19  </td> <td>Business Information Te</td> <td>Year 1</td> <td>3.00 - 3.49 </td> <td>No     </td> <td>Yes       </td> <td>Yes    </td> <td>Yes          </td> <td>No       </td>\n",
       "        </tr>\n",
       "        <tr>\n",
       "            <td>8/7/2020 12:06</td> <td>Female</td> <td>22  </td> <td>Laws                   </td> <td>year 3</td> <td>3.00 - 3.49 </td> <td>Yes    </td> <td>Yes       </td> <td>No     </td> <td>No           </td> <td>No       </td>\n",
       "        </tr>\n",
       "        <tr>\n",
       "            <td>8/7/2020 12:13</td> <td>Male  </td> <td>23  </td> <td>Mathemathics           </td> <td>year 4</td> <td>3.00 - 3.49 </td> <td>No     </td> <td>No        </td> <td>No     </td> <td>No           </td> <td>No       </td>\n",
       "        </tr>\n",
       "        <tr>\n",
       "            <td>8/7/2020 12:31</td> <td>Male  </td> <td>19  </td> <td>Engineering            </td> <td>Year 2</td> <td>3.50 - 4.00 </td> <td>No     </td> <td>No        </td> <td>No     </td> <td>Yes          </td> <td>No       </td>\n",
       "        </tr>\n",
       "        <tr>\n",
       "            <td>8/7/2020 12:32</td> <td>Female</td> <td>23  </td> <td>Pendidikan islam       </td> <td>year 2</td> <td>3.50 - 4.00 </td> <td>Yes    </td> <td>Yes       </td> <td>No     </td> <td>Yes          </td> <td>No       </td>\n",
       "        </tr>\n",
       "        <tr>\n",
       "            <td>8/7/2020 12:33</td> <td>Female</td> <td>18  </td> <td>Computer Science       </td> <td>year 1</td> <td>3.50 - 4.00 </td> <td>No     </td> <td>No        </td> <td>Yes    </td> <td>No           </td> <td>No       </td>\n",
       "        </tr>\n",
       "        <tr>\n",
       "            <td>8/7/2020 12:35</td> <td>Female</td> <td>19  </td> <td>Human Resources        </td> <td>Year 2</td> <td>2.50 - 2.99 </td> <td>No     </td> <td>No        </td> <td>No     </td> <td>No           </td> <td>No       </td>\n",
       "        </tr>\n",
       "        <tr>\n",
       "            <td>8/7/2020 12:39</td> <td>Male  </td> <td>18  </td> <td>Irkhs                  </td> <td>year 1</td> <td>3.50 - 4.00 </td> <td>No     </td> <td>No        </td> <td>Yes    </td> <td>Yes          </td> <td>No       </td>\n",
       "        </tr>\n",
       "    </tbody>\n",
       "</table>\n",
       "<p>... (91 rows omitted)</p>"
      ],
      "text/plain": [
       "Timestamp      | Gender | Age  | Major                   | Year   | GPA          | Married | Depression | Anxiety | Panic Attacks | Treatment\n",
       "8/7/2020 12:02 | Female | 18   | Engineering             | year 1 | 3.00 - 3.49  | No      | Yes        | No      | Yes           | No\n",
       "8/7/2020 12:04 | Male   | 21   | Islamic education       | year 2 | 3.00 - 3.49  | No      | No         | Yes     | No            | No\n",
       "8/7/2020 12:05 | Male   | 19   | Business Information Te | Year 1 | 3.00 - 3.49  | No      | Yes        | Yes     | Yes           | No\n",
       "8/7/2020 12:06 | Female | 22   | Laws                    | year 3 | 3.00 - 3.49  | Yes     | Yes        | No      | No            | No\n",
       "8/7/2020 12:13 | Male   | 23   | Mathemathics            | year 4 | 3.00 - 3.49  | No      | No         | No      | No            | No\n",
       "8/7/2020 12:31 | Male   | 19   | Engineering             | Year 2 | 3.50 - 4.00  | No      | No         | No      | Yes           | No\n",
       "8/7/2020 12:32 | Female | 23   | Pendidikan islam        | year 2 | 3.50 - 4.00  | Yes     | Yes        | No      | Yes           | No\n",
       "8/7/2020 12:33 | Female | 18   | Computer Science        | year 1 | 3.50 - 4.00  | No      | No         | Yes     | No            | No\n",
       "8/7/2020 12:35 | Female | 19   | Human Resources         | Year 2 | 2.50 - 2.99  | No      | No         | No      | No            | No\n",
       "8/7/2020 12:39 | Male   | 18   | Irkhs                   | year 1 | 3.50 - 4.00  | No      | No         | Yes     | Yes           | No\n",
       "... (91 rows omitted)"
      ]
     },
     "execution_count": 16,
     "metadata": {},
     "output_type": "execute_result"
    }
   ],
   "source": [
    "datafile = \"Student Mental health.csv\"\n",
    "students = Table.read_table(datafile)\n",
    "students = students.relabeled([\"Choose your gender\",\"What is your course?\",\"Your current year of Study\",\"What is your CGPA?\",\"Marital status\",\"Do you have Depression?\",\"Do you have Anxiety?\",\"Do you have Panic attack?\",\"Did you seek any specialist for a treatment?\"], [\"Gender\",\"Major\",\"Year\",\"GPA\",\"Married\",\"Depression\",\"Anxiety\",\n",
    "\"Panic Attacks\",\"Treatment\"]\n",
    ")\n",
    "students_nan_age = students.where(\"Age\",are.above(0))\n",
    "relabel(students,\"Major\",\"Engine\",\"Engineering\")\n",
    "relabel(students,\"Major\",\"Engin\",\"Engineering\")\n",
    "relabel(students,\"Major\",\"psychology\",\"Psychology\")\n",
    "relabel(students,\"Major\",\"BCS\",\"Computer Science\")\n",
    "relabel(students,\"Major\",\"BIT\",\"Business Information Technology\")\n",
    "relabel(students,\"Major\",\"IT\",\"Information Technology\")\n",
    "relabel(students,\"Major\",\"Fiqh\",\"Islamic Law\")\n",
    "relabel(students,\"Major\",\"koe\",\"Koe\")\n",
    "## relabel(students,\"GPA\",\"0 - 1.99\",\"1\")\n",
    "## relabel(students,\"GPA\",\"2.00 - 2.49\",\"2\")\n",
    "## relabel(students,\"GPA\",\"2.50 - 2.99\",\"3\")\n",
    "students\n"
   ]
  },
  {
   "cell_type": "markdown",
   "id": "fd8c890b-847e-43e3-b1fd-2995a0b43474",
   "metadata": {},
   "source": [
    "#### Student Age Numbers"
   ]
  },
  {
   "cell_type": "markdown",
   "id": "fb2351cd-3c4f-4d29-bccf-e56ef68e2200",
   "metadata": {},
   "source": [
    "These values how the number values of all students based off age"
   ]
  },
  {
   "cell_type": "code",
   "execution_count": 17,
   "id": "d9754dfc-fc37-4c14-948a-c9acfa08a99f",
   "metadata": {},
   "outputs": [
    {
     "name": "stdout",
     "output_type": "stream",
     "text": [
      "The minimum age of all students is 18.0\n"
     ]
    }
   ],
   "source": [
    "student_min_age = min(students_nan_age.column(\"Age\"))\n",
    "print(\"The minimum age of all students is \" + str(student_min_age))"
   ]
  },
  {
   "cell_type": "code",
   "execution_count": 18,
   "id": "88cab480-3331-4f71-a3aa-13b39b27b6a3",
   "metadata": {
    "tags": []
   },
   "outputs": [
    {
     "name": "stdout",
     "output_type": "stream",
     "text": [
      "The maximum age of all students is 24.0\n"
     ]
    }
   ],
   "source": [
    "student_max_age = max(students_nan_age.column(\"Age\"))\n",
    "print(\"The maximum age of all students is \" + str(student_max_age))"
   ]
  },
  {
   "cell_type": "code",
   "execution_count": 19,
   "id": "af587281-a238-4d7c-b604-79e2ebda38b2",
   "metadata": {
    "tags": []
   },
   "outputs": [
    {
     "name": "stdout",
     "output_type": "stream",
     "text": [
      "The median age of all students is 19.0\n"
     ]
    }
   ],
   "source": [
    "student_median_age = np.median(students_nan_age.column(\"Age\"))\n",
    "print(\"The median age of all students is \" + str(student_median_age))"
   ]
  },
  {
   "cell_type": "code",
   "execution_count": 20,
   "id": "3e182022-f29c-4e51-941f-a77cb6d2dfc7",
   "metadata": {
    "tags": []
   },
   "outputs": [
    {
     "name": "stdout",
     "output_type": "stream",
     "text": [
      "The mean age of all students is 20.53\n"
     ]
    }
   ],
   "source": [
    "student_mean_age = np.mean(students_nan_age.column(\"Age\"))\n",
    "print(\"The mean age of all students is \" + str(student_mean_age))"
   ]
  },
  {
   "cell_type": "code",
   "execution_count": 21,
   "id": "951dc23b-c50f-4c3d-93c3-8a91df3e8080",
   "metadata": {
    "tags": []
   },
   "outputs": [
    {
     "name": "stdout",
     "output_type": "stream",
     "text": [
      "The standard deviation of age of all students is 2.48376729989\n"
     ]
    }
   ],
   "source": [
    "student_standard_deviation_age = np.std(students_nan_age.column(\"Age\"))\n",
    "print(\"The standard deviation of age of all students is \" + str(student_standard_deviation_age))"
   ]
  },
  {
   "cell_type": "markdown",
   "id": "2193518e-89a9-4f57-a1ec-4ade9d6c8fcc",
   "metadata": {},
   "source": [
    "#### Students with Depression"
   ]
  },
  {
   "cell_type": "markdown",
   "id": "097b7d01-efe6-4a53-b875-0729d20542a1",
   "metadata": {},
   "source": [
    "This shows all the table and number values of students that have reported depression"
   ]
  },
  {
   "cell_type": "code",
   "execution_count": 22,
   "id": "38590ddc-daf6-4615-9592-4ab47fa778c8",
   "metadata": {
    "tags": []
   },
   "outputs": [
    {
     "name": "stdout",
     "output_type": "stream",
     "text": [
      "The total amount of students that have reported they have depression is  35\n"
     ]
    }
   ],
   "source": [
    "students_with_depression=students.where(\"Depression\",are.equal_to(\"Yes\"))\n",
    "print(\"The total amount of students that have reported they have depression is \", str(students_with_depression.num_rows))"
   ]
  },
  {
   "cell_type": "code",
   "execution_count": 23,
   "id": "35539247-7f1b-4a7e-855d-439f07e222a2",
   "metadata": {
    "tags": []
   },
   "outputs": [
    {
     "name": "stdout",
     "output_type": "stream",
     "text": [
      "The total amount of female students that have reported they have depression is  29\n"
     ]
    }
   ],
   "source": [
    "female_students_with_depression = students_with_depression.where(\"Gender\",are.equal_to(\"Female\"))\n",
    "print(\"The total amount of female students that have reported they have depression is \", str(female_students_with_depression.num_rows))"
   ]
  },
  {
   "cell_type": "code",
   "execution_count": 24,
   "id": "c2e61eac-f7a9-493b-b14e-cb8f14907d6a",
   "metadata": {
    "tags": []
   },
   "outputs": [
    {
     "name": "stdout",
     "output_type": "stream",
     "text": [
      "The total amount of male students that have reported they have depression is  6\n"
     ]
    }
   ],
   "source": [
    "male_students_with_depression = students_with_depression.where(\"Gender\",are.equal_to(\"Male\"))\n",
    "print(\"The total amount of male students that have reported they have depression is \", str(male_students_with_depression.num_rows))"
   ]
  },
  {
   "cell_type": "markdown",
   "id": "243f3acc-3be9-4642-83c6-c54b6076dea4",
   "metadata": {},
   "source": [
    "#### Students with Anxiety"
   ]
  },
  {
   "cell_type": "markdown",
   "id": "d50e4a6a-dd78-46c0-88f7-4dcefeec0c7b",
   "metadata": {
    "tags": []
   },
   "source": [
    "This shows all the table and number values of students that have reported anxiety"
   ]
  },
  {
   "cell_type": "code",
   "execution_count": 25,
   "id": "b19aeb6b-3e02-401b-835e-bd35df1c712a",
   "metadata": {
    "tags": []
   },
   "outputs": [
    {
     "name": "stdout",
     "output_type": "stream",
     "text": [
      "The total amount of students that have reported they have anxiety is  34\n"
     ]
    }
   ],
   "source": [
    "students_with_anxiety = students.where(\"Anxiety\",are.equal_to(\"Yes\"))\n",
    "print(\"The total amount of students that have reported they have anxiety is \", str(students_with_anxiety.num_rows))"
   ]
  },
  {
   "cell_type": "code",
   "execution_count": 26,
   "id": "329bb2f6-5e5f-4984-9e17-12fe678207b8",
   "metadata": {
    "tags": []
   },
   "outputs": [
    {
     "name": "stdout",
     "output_type": "stream",
     "text": [
      "The total amount of female students that have reported they have depression is  24\n"
     ]
    }
   ],
   "source": [
    "female_students_with_anxiety = students_with_anxiety.where(\"Gender\",are.equal_to(\"Female\"))\n",
    "print(\"The total amount of female students that have reported they have depression is \", str(female_students_with_anxiety.num_rows))"
   ]
  },
  {
   "cell_type": "code",
   "execution_count": 27,
   "id": "a470e5d7-8f54-46f3-913e-b198d47753fb",
   "metadata": {
    "tags": []
   },
   "outputs": [
    {
     "name": "stdout",
     "output_type": "stream",
     "text": [
      "The total amount of male students that have reported they have depression is  10\n"
     ]
    }
   ],
   "source": [
    "male_students_with_anxiety = students_with_anxiety.where(\"Gender\",are.equal_to(\"Male\"))\n",
    "print(\"The total amount of male students that have reported they have depression is \", str(male_students_with_anxiety.num_rows))"
   ]
  },
  {
   "cell_type": "markdown",
   "id": "dc5b9a07-2f89-4c1c-9c91-6dc3b1424be8",
   "metadata": {},
   "source": [
    "#### Students with Panic Attacks"
   ]
  },
  {
   "cell_type": "markdown",
   "id": "94ab98d6-0456-452b-ad7e-24611566a4a5",
   "metadata": {
    "tags": []
   },
   "source": [
    "This shows all the table and number values of students that have reported panic attacks"
   ]
  },
  {
   "cell_type": "code",
   "execution_count": 28,
   "id": "a667c546-1b75-42d1-9abc-d53609c1b07a",
   "metadata": {
    "tags": []
   },
   "outputs": [
    {
     "name": "stdout",
     "output_type": "stream",
     "text": [
      "The total amount of students that have reported they have panic attacks is  33\n"
     ]
    }
   ],
   "source": [
    "students_with_panic_attacks = students.where(\"Panic Attacks\",are.equal_to(\"Yes\"))\n",
    "print(\"The total amount of students that have reported they have panic attacks is \", str(students_with_panic_attacks.num_rows))"
   ]
  },
  {
   "cell_type": "code",
   "execution_count": 29,
   "id": "79d83f5c-2350-4b5e-96ee-a367be424114",
   "metadata": {
    "tags": []
   },
   "outputs": [
    {
     "name": "stdout",
     "output_type": "stream",
     "text": [
      "The total amount of female students that have reported they have depression is  25\n"
     ]
    }
   ],
   "source": [
    "female_students_with_panic_attacks = students_with_panic_attacks.where(\"Gender\",are.equal_to(\"Female\"))\n",
    "print(\"The total amount of female students that have reported they have depression is \", str(female_students_with_panic_attacks.num_rows))"
   ]
  },
  {
   "cell_type": "code",
   "execution_count": 30,
   "id": "f52f925c-3e12-4290-9697-819f03c045ae",
   "metadata": {
    "tags": []
   },
   "outputs": [
    {
     "name": "stdout",
     "output_type": "stream",
     "text": [
      "The total amount of male students that have reported they have depression is  8\n"
     ]
    }
   ],
   "source": [
    "male_students_with_panic_attacks = students_with_panic_attacks.where(\"Gender\",are.equal_to(\"Male\"))\n",
    "print(\"The total amount of male students that have reported they have depression is \", str(male_students_with_panic_attacks.num_rows))"
   ]
  },
  {
   "cell_type": "markdown",
   "id": "a80260a0-8e5b-449c-bf79-af07313d7f32",
   "metadata": {},
   "source": [
    "#### Majors with Depression"
   ]
  },
  {
   "cell_type": "code",
   "execution_count": 31,
   "id": "70ea1d53-5f73-4b55-a3a9-0258a5b4f090",
   "metadata": {
    "tags": []
   },
   "outputs": [
    {
     "data": {
      "text/html": [
       "<table border=\"1\" class=\"dataframe\">\n",
       "    <thead>\n",
       "        <tr>\n",
       "            <th>Major</th> <th>count</th>\n",
       "        </tr>\n",
       "    </thead>\n",
       "    <tbody>\n",
       "        <tr>\n",
       "            <td>Engineering            </td> <td>7    </td>\n",
       "        </tr>\n",
       "        <tr>\n",
       "            <td>Business Information Te</td> <td>5    </td>\n",
       "        </tr>\n",
       "        <tr>\n",
       "            <td>Computer Science       </td> <td>5    </td>\n",
       "        </tr>\n",
       "        <tr>\n",
       "            <td>BENL                   </td> <td>2    </td>\n",
       "        </tr>\n",
       "        <tr>\n",
       "            <td>Koe                    </td> <td>2    </td>\n",
       "        </tr>\n",
       "        <tr>\n",
       "            <td>Psychology             </td> <td>2    </td>\n",
       "        </tr>\n",
       "        <tr>\n",
       "            <td>ALA                    </td> <td>1    </td>\n",
       "        </tr>\n",
       "        <tr>\n",
       "            <td>Communication          </td> <td>1    </td>\n",
       "        </tr>\n",
       "        <tr>\n",
       "            <td>ENM                    </td> <td>1    </td>\n",
       "        </tr>\n",
       "        <tr>\n",
       "            <td>Econs                  </td> <td>1    </td>\n",
       "        </tr>\n",
       "    </tbody>\n",
       "</table>\n",
       "<p>... (8 rows omitted)</p>"
      ],
      "text/plain": [
       "Major                   | count\n",
       "Engineering             | 7\n",
       "Business Information Te | 5\n",
       "Computer Science        | 5\n",
       "BENL                    | 2\n",
       "Koe                     | 2\n",
       "Psychology              | 2\n",
       "ALA                     | 1\n",
       "Communication           | 1\n",
       "ENM                     | 1\n",
       "Econs                   | 1\n",
       "... (8 rows omitted)"
      ]
     },
     "execution_count": 31,
     "metadata": {},
     "output_type": "execute_result"
    }
   ],
   "source": [
    "students_with_depression.group(\"Major\").sort(\"count\", descending=True)"
   ]
  },
  {
   "cell_type": "code",
   "execution_count": 32,
   "id": "c34e164f-342b-4208-a862-6971a3e02ba6",
   "metadata": {
    "tags": []
   },
   "outputs": [
    {
     "data": {
      "text/html": [
       "<table border=\"1\" class=\"dataframe\">\n",
       "    <thead>\n",
       "        <tr>\n",
       "            <th>Major</th> <th>count</th>\n",
       "        </tr>\n",
       "    </thead>\n",
       "    <tbody>\n",
       "        <tr>\n",
       "            <td>Engineering            </td> <td>5    </td>\n",
       "        </tr>\n",
       "        <tr>\n",
       "            <td>Business Information Te</td> <td>4    </td>\n",
       "        </tr>\n",
       "        <tr>\n",
       "            <td>Computer Science       </td> <td>3    </td>\n",
       "        </tr>\n",
       "        <tr>\n",
       "            <td>BENL                   </td> <td>2    </td>\n",
       "        </tr>\n",
       "        <tr>\n",
       "            <td>Koe                    </td> <td>2    </td>\n",
       "        </tr>\n",
       "        <tr>\n",
       "            <td>Psychology             </td> <td>2    </td>\n",
       "        </tr>\n",
       "        <tr>\n",
       "            <td>ALA                    </td> <td>1    </td>\n",
       "        </tr>\n",
       "        <tr>\n",
       "            <td>Communication          </td> <td>1    </td>\n",
       "        </tr>\n",
       "        <tr>\n",
       "            <td>ENM                    </td> <td>1    </td>\n",
       "        </tr>\n",
       "        <tr>\n",
       "            <td>Econs                  </td> <td>1    </td>\n",
       "        </tr>\n",
       "    </tbody>\n",
       "</table>\n",
       "<p>... (7 rows omitted)</p>"
      ],
      "text/plain": [
       "Major                   | count\n",
       "Engineering             | 5\n",
       "Business Information Te | 4\n",
       "Computer Science        | 3\n",
       "BENL                    | 2\n",
       "Koe                     | 2\n",
       "Psychology              | 2\n",
       "ALA                     | 1\n",
       "Communication           | 1\n",
       "ENM                     | 1\n",
       "Econs                   | 1\n",
       "... (7 rows omitted)"
      ]
     },
     "execution_count": 32,
     "metadata": {},
     "output_type": "execute_result"
    }
   ],
   "source": [
    "female_students_with_depression.group(\"Major\").sort(\"count\", descending=True)"
   ]
  },
  {
   "cell_type": "code",
   "execution_count": 33,
   "id": "438585d4-b85a-4d00-8d41-f1b94d3221f9",
   "metadata": {
    "tags": []
   },
   "outputs": [
    {
     "data": {
      "text/html": [
       "<table border=\"1\" class=\"dataframe\">\n",
       "    <thead>\n",
       "        <tr>\n",
       "            <th>Major</th> <th>count</th>\n",
       "        </tr>\n",
       "    </thead>\n",
       "    <tbody>\n",
       "        <tr>\n",
       "            <td>Computer Science       </td> <td>2    </td>\n",
       "        </tr>\n",
       "        <tr>\n",
       "            <td>Engineering            </td> <td>2    </td>\n",
       "        </tr>\n",
       "        <tr>\n",
       "            <td>Business Information Te</td> <td>1    </td>\n",
       "        </tr>\n",
       "        <tr>\n",
       "            <td>MHSC                   </td> <td>1    </td>\n",
       "        </tr>\n",
       "    </tbody>\n",
       "</table>"
      ],
      "text/plain": [
       "Major                   | count\n",
       "Computer Science        | 2\n",
       "Engineering             | 2\n",
       "Business Information Te | 1\n",
       "MHSC                    | 1"
      ]
     },
     "execution_count": 33,
     "metadata": {},
     "output_type": "execute_result"
    }
   ],
   "source": [
    "male_students_with_depression.group(\"Major\").sort(\"count\", descending=True)"
   ]
  },
  {
   "cell_type": "code",
   "execution_count": 44,
   "id": "42c815c9-f524-40ab-9176-60cb82ea5b90",
   "metadata": {},
   "outputs": [
    {
     "data": {
      "text/html": [
       "<table border=\"1\" class=\"dataframe\">\n",
       "    <thead>\n",
       "        <tr>\n",
       "            <th>Major</th> <th>count</th>\n",
       "        </tr>\n",
       "    </thead>\n",
       "    <tbody>\n",
       "        <tr>\n",
       "            <td>Business Information Te</td> <td>5    </td>\n",
       "        </tr>\n",
       "        <tr>\n",
       "            <td>Computer Science       </td> <td>4    </td>\n",
       "        </tr>\n",
       "        <tr>\n",
       "            <td>Koe                    </td> <td>3    </td>\n",
       "        </tr>\n",
       "        <tr>\n",
       "            <td>Engineering            </td> <td>2    </td>\n",
       "        </tr>\n",
       "        <tr>\n",
       "            <td>Psychology             </td> <td>2    </td>\n",
       "        </tr>\n",
       "        <tr>\n",
       "            <td>BENL                   </td> <td>1    </td>\n",
       "        </tr>\n",
       "        <tr>\n",
       "            <td>Communication          </td> <td>1    </td>\n",
       "        </tr>\n",
       "        <tr>\n",
       "            <td>ENM                    </td> <td>1    </td>\n",
       "        </tr>\n",
       "        <tr>\n",
       "            <td>Econs                  </td> <td>1    </td>\n",
       "        </tr>\n",
       "        <tr>\n",
       "            <td>KENMS                  </td> <td>1    </td>\n",
       "        </tr>\n",
       "    </tbody>\n",
       "</table>\n",
       "<p>... (3 rows omitted)</p>"
      ],
      "text/plain": [
       "Major                   | count\n",
       "Business Information Te | 5\n",
       "Computer Science        | 4\n",
       "Koe                     | 3\n",
       "Engineering             | 2\n",
       "Psychology              | 2\n",
       "BENL                    | 1\n",
       "Communication           | 1\n",
       "ENM                     | 1\n",
       "Econs                   | 1\n",
       "KENMS                   | 1\n",
       "... (3 rows omitted)"
      ]
     },
     "execution_count": 44,
     "metadata": {},
     "output_type": "execute_result"
    }
   ],
   "source": [
    "female_students_with_anxiety.group(\"Major\").sort(\"count\", descending=True)"
   ]
  },
  {
   "cell_type": "code",
   "execution_count": 45,
   "id": "f364584d-eae0-4086-b644-2dffc369604d",
   "metadata": {
    "tags": []
   },
   "outputs": [
    {
     "data": {
      "text/html": [
       "<table border=\"1\" class=\"dataframe\">\n",
       "    <thead>\n",
       "        <tr>\n",
       "            <th>Major</th> <th>count</th>\n",
       "        </tr>\n",
       "    </thead>\n",
       "    <tbody>\n",
       "        <tr>\n",
       "            <td>Business Information Te</td> <td>3    </td>\n",
       "        </tr>\n",
       "        <tr>\n",
       "            <td>Computer Science       </td> <td>2    </td>\n",
       "        </tr>\n",
       "        <tr>\n",
       "            <td>Engineering            </td> <td>2    </td>\n",
       "        </tr>\n",
       "        <tr>\n",
       "            <td>Irkhs                  </td> <td>1    </td>\n",
       "        </tr>\n",
       "        <tr>\n",
       "            <td>Islamic education      </td> <td>1    </td>\n",
       "        </tr>\n",
       "        <tr>\n",
       "            <td>Koe                    </td> <td>1    </td>\n",
       "        </tr>\n",
       "    </tbody>\n",
       "</table>"
      ],
      "text/plain": [
       "Major                   | count\n",
       "Business Information Te | 3\n",
       "Computer Science        | 2\n",
       "Engineering             | 2\n",
       "Irkhs                   | 1\n",
       "Islamic education       | 1\n",
       "Koe                     | 1"
      ]
     },
     "execution_count": 45,
     "metadata": {},
     "output_type": "execute_result"
    }
   ],
   "source": [
    "male_students_with_anxiety.group(\"Major\").sort(\"count\", descending=True)"
   ]
  },
  {
   "cell_type": "code",
   "execution_count": 46,
   "id": "ec6f8bef-2496-46eb-b3c6-66a9d61b9f0e",
   "metadata": {
    "tags": []
   },
   "outputs": [
    {
     "data": {
      "text/html": [
       "<table border=\"1\" class=\"dataframe\">\n",
       "    <thead>\n",
       "        <tr>\n",
       "            <th>Major</th> <th>count</th>\n",
       "        </tr>\n",
       "    </thead>\n",
       "    <tbody>\n",
       "        <tr>\n",
       "            <td>Engineering            </td> <td>4    </td>\n",
       "        </tr>\n",
       "        <tr>\n",
       "            <td>Business Information Te</td> <td>3    </td>\n",
       "        </tr>\n",
       "        <tr>\n",
       "            <td>Computer Science       </td> <td>3    </td>\n",
       "        </tr>\n",
       "        <tr>\n",
       "            <td>Koe                    </td> <td>2    </td>\n",
       "        </tr>\n",
       "        <tr>\n",
       "            <td>ALA                    </td> <td>1    </td>\n",
       "        </tr>\n",
       "        <tr>\n",
       "            <td>CTS                    </td> <td>1    </td>\n",
       "        </tr>\n",
       "        <tr>\n",
       "            <td>Communication          </td> <td>1    </td>\n",
       "        </tr>\n",
       "        <tr>\n",
       "            <td>DIPLOMA TESL           </td> <td>1    </td>\n",
       "        </tr>\n",
       "        <tr>\n",
       "            <td>ENM                    </td> <td>1    </td>\n",
       "        </tr>\n",
       "        <tr>\n",
       "            <td>Human Sciences         </td> <td>1    </td>\n",
       "        </tr>\n",
       "    </tbody>\n",
       "</table>\n",
       "<p>... (7 rows omitted)</p>"
      ],
      "text/plain": [
       "Major                   | count\n",
       "Engineering             | 4\n",
       "Business Information Te | 3\n",
       "Computer Science        | 3\n",
       "Koe                     | 2\n",
       "ALA                     | 1\n",
       "CTS                     | 1\n",
       "Communication           | 1\n",
       "DIPLOMA TESL            | 1\n",
       "ENM                     | 1\n",
       "Human Sciences          | 1\n",
       "... (7 rows omitted)"
      ]
     },
     "execution_count": 46,
     "metadata": {},
     "output_type": "execute_result"
    }
   ],
   "source": [
    "female_students_with_panic_attacks.group(\"Major\").sort(\"count\", descending=True)"
   ]
  },
  {
   "cell_type": "code",
   "execution_count": 47,
   "id": "65345aa4-02c8-487f-ab5c-ca0ef3234f75",
   "metadata": {
    "tags": []
   },
   "outputs": [
    {
     "data": {
      "text/html": [
       "<table border=\"1\" class=\"dataframe\">\n",
       "    <thead>\n",
       "        <tr>\n",
       "            <th>Major</th> <th>count</th>\n",
       "        </tr>\n",
       "    </thead>\n",
       "    <tbody>\n",
       "        <tr>\n",
       "            <td>Computer Science       </td> <td>2    </td>\n",
       "        </tr>\n",
       "        <tr>\n",
       "            <td>Engineering            </td> <td>2    </td>\n",
       "        </tr>\n",
       "        <tr>\n",
       "            <td>Business Information Te</td> <td>1    </td>\n",
       "        </tr>\n",
       "        <tr>\n",
       "            <td>Irkhs                  </td> <td>1    </td>\n",
       "        </tr>\n",
       "        <tr>\n",
       "            <td>MHSC                   </td> <td>1    </td>\n",
       "        </tr>\n",
       "        <tr>\n",
       "            <td>TAASL                  </td> <td>1    </td>\n",
       "        </tr>\n",
       "    </tbody>\n",
       "</table>"
      ],
      "text/plain": [
       "Major                   | count\n",
       "Computer Science        | 2\n",
       "Engineering             | 2\n",
       "Business Information Te | 1\n",
       "Irkhs                   | 1\n",
       "MHSC                    | 1\n",
       "TAASL                   | 1"
      ]
     },
     "execution_count": 47,
     "metadata": {},
     "output_type": "execute_result"
    }
   ],
   "source": [
    "male_students_with_panic_attacks.group(\"Major\").sort(\"count\", descending=True)"
   ]
  },
  {
   "cell_type": "markdown",
   "id": "d37a91b1-a08c-4042-891c-a23a8d8c5369",
   "metadata": {},
   "source": [
    "## Probability"
   ]
  },
  {
   "cell_type": "markdown",
   "id": "4137d9c8-8dd7-4010-bcb5-c573cb285898",
   "metadata": {},
   "source": [
    "The percentage of all students that have depression"
   ]
  },
  {
   "cell_type": "code",
   "execution_count": 93,
   "id": "8b5ecbb6-6abf-45ef-8207-59ea23de839d",
   "metadata": {
    "tags": []
   },
   "outputs": [
    {
     "data": {
      "text/plain": [
       "34.653465346534652"
      ]
     },
     "execution_count": 93,
     "metadata": {},
     "output_type": "execute_result"
    }
   ],
   "source": [
    "student_depression_percentage = 100*sum(students_with_depression.group(\"Major\").column(\"count\"))/sum(students.group(\"Major\").column(\"count\"))\n",
    "student_depression_percentage"
   ]
  },
  {
   "cell_type": "code",
   "execution_count": 95,
   "id": "0030bd6e-7331-478b-95be-2533a177b4e6",
   "metadata": {
    "tags": []
   },
   "outputs": [
    {
     "data": {
      "text/plain": [
       "28.712871287128714"
      ]
     },
     "execution_count": 95,
     "metadata": {},
     "output_type": "execute_result"
    }
   ],
   "source": [
    "female_student_depression_percentage = 100*sum(female_students_with_depression.group(\"Major\").column(\"count\"))/sum(students.group(\"Major\").column(\"count\"))\n",
    "female_student_depression_percentage"
   ]
  },
  {
   "cell_type": "code",
   "execution_count": 96,
   "id": "adb2f53d-6deb-45fc-a753-27b262f42270",
   "metadata": {
    "tags": []
   },
   "outputs": [
    {
     "data": {
      "text/plain": [
       "5.9405940594059405"
      ]
     },
     "execution_count": 96,
     "metadata": {},
     "output_type": "execute_result"
    }
   ],
   "source": [
    "male_student_depression_percentage = 100*sum(male_students_with_depression.group(\"Major\").column(\"count\"))/sum(students.group(\"Major\").column(\"count\"))\n",
    "male_student_depression_percentage"
   ]
  },
  {
   "cell_type": "markdown",
   "id": "6b5c0d90-eef7-498b-bed7-96323c78388f",
   "metadata": {},
   "source": [
    "The percentage of all students that have anxiety"
   ]
  },
  {
   "cell_type": "code",
   "execution_count": 94,
   "id": "f7509437-a9e4-4a72-8750-5ff08865303e",
   "metadata": {
    "tags": []
   },
   "outputs": [
    {
     "data": {
      "text/plain": [
       "33.663366336633665"
      ]
     },
     "execution_count": 94,
     "metadata": {},
     "output_type": "execute_result"
    }
   ],
   "source": [
    "student_anxiety_percentage = 100*sum(students_with_anxiety.group(\"Major\").column(\"count\"))/sum(students.group(\"Major\").column(\"count\"))\n",
    "student_anxiety_percentage"
   ]
  },
  {
   "cell_type": "code",
   "execution_count": 97,
   "id": "9b1765b7-1cc4-4c41-8336-72ffd6ba9c44",
   "metadata": {
    "tags": []
   },
   "outputs": [
    {
     "data": {
      "text/plain": [
       "23.762376237623762"
      ]
     },
     "execution_count": 97,
     "metadata": {},
     "output_type": "execute_result"
    }
   ],
   "source": [
    "female_student_anxiety_percentage = 100*sum(female_students_with_anxiety.group(\"Major\").column(\"count\"))/sum(students.group(\"Major\").column(\"count\"))\n",
    "female_student_anxiety_percentage"
   ]
  },
  {
   "cell_type": "code",
   "execution_count": 98,
   "id": "2090779c-f4ec-4950-8989-27fc3bb1d4aa",
   "metadata": {
    "tags": []
   },
   "outputs": [
    {
     "data": {
      "text/plain": [
       "9.9009900990099009"
      ]
     },
     "execution_count": 98,
     "metadata": {},
     "output_type": "execute_result"
    }
   ],
   "source": [
    "male_student_anxiety_percentage = 100*sum(male_students_with_anxiety.group(\"Major\").column(\"count\"))/sum(students.group(\"Major\").column(\"count\"))\n",
    "male_student_anxiety_percentage"
   ]
  },
  {
   "cell_type": "markdown",
   "id": "6b690a28-c7e9-45cf-b234-62db621e3009",
   "metadata": {},
   "source": [
    "The percentage of all students that have panic attacks"
   ]
  },
  {
   "cell_type": "code",
   "execution_count": 101,
   "id": "c548e4f8-03ef-4d1d-a3d3-ff91747bbf82",
   "metadata": {
    "tags": []
   },
   "outputs": [
    {
     "data": {
      "text/plain": [
       "32.67326732673267"
      ]
     },
     "execution_count": 101,
     "metadata": {},
     "output_type": "execute_result"
    }
   ],
   "source": [
    "student_panic_attack_percentage = 100*sum(students_with_panic_attacks.group(\"Major\").column(\"count\"))/sum(students.group(\"Major\").column(\"count\"))\n",
    "student_panic_attack_percentage"
   ]
  },
  {
   "cell_type": "code",
   "execution_count": 102,
   "id": "2b84b809-6774-4ef8-9b4f-872c7fdcf7d3",
   "metadata": {
    "tags": []
   },
   "outputs": [
    {
     "data": {
      "text/plain": [
       "24.752475247524753"
      ]
     },
     "execution_count": 102,
     "metadata": {},
     "output_type": "execute_result"
    }
   ],
   "source": [
    "female_student_panic_attack_percentage = 100*sum(female_students_with_panic_attacks.group(\"Major\").column(\"count\"))/sum(students.group(\"Major\").column(\"count\"))\n",
    "female_student_panic_attack_percentage"
   ]
  },
  {
   "cell_type": "code",
   "execution_count": 103,
   "id": "b83f2f5c-bf4a-401d-9640-9967b752b2e6",
   "metadata": {
    "tags": []
   },
   "outputs": [
    {
     "data": {
      "text/plain": [
       "7.9207920792079207"
      ]
     },
     "execution_count": 103,
     "metadata": {},
     "output_type": "execute_result"
    }
   ],
   "source": [
    "male_student_panic_attack_percentage = 100*sum(male_students_with_panic_attacks.group(\"Major\").column(\"count\"))/sum(students.group(\"Major\").column(\"count\"))\n",
    "male_student_panic_attack_percentage"
   ]
  },
  {
   "cell_type": "markdown",
   "id": "11751e3a-6df4-49ab-9f51-a2e16920eeee",
   "metadata": {},
   "source": [
    "### Probability with iterations"
   ]
  },
  {
   "cell_type": "markdown",
   "id": "7efea7ae-a371-4651-a66a-ddb1c03e4d38",
   "metadata": {},
   "source": [
    "Probability of random chance students will face a form of mental disorder"
   ]
  },
  {
   "cell_type": "code",
   "execution_count": 99,
   "id": "30e153c8-36e3-41f9-a4b0-aca6d45bf42a",
   "metadata": {
    "tags": []
   },
   "outputs": [
    {
     "data": {
      "text/plain": [
       "85.148514851485146"
      ]
     },
     "execution_count": 99,
     "metadata": {},
     "output_type": "execute_result"
    }
   ],
   "source": [
    "depression_option = students.group(\"Depression\").column(\"Depression\")\n",
    "anxiety_option = students.group(\"Anxiety\").column(\"Anxiety\")\n",
    "panic_attack_option = students.group(\"Panic Attacks\").column(\"Panic Attacks\")\n",
    "num_observations = sum(students.group(\"Major\").column(\"count\"))\n",
    "\n",
    "yes = 0\n",
    "no = 0\n",
    "for obs in range(num_observations):\n",
    "    anxiety = np.random.choice(anxiety_option)\n",
    "    depression = np.random.choice(depression_option)\n",
    "    panic_attack = np.random.choice(panic_attack_option)\n",
    "    if anxiety == 'Yes':\n",
    "        yes += 1\n",
    "    elif depression == 'Yes':\n",
    "        yes += 1\n",
    "    elif panic_attack == 'Yes':\n",
    "        yes += 1\n",
    "    else:\n",
    "        no+=1\n",
    "simulated_num_disorder = yes/num_observations\n",
    "simulated_num_disorder = 100*(simulated_num_disorder)\n",
    "simulated_num_disorder\n",
    "    "
   ]
  },
  {
   "cell_type": "markdown",
   "id": "337a25c9-a2b9-471f-b4c8-404d9807d8dc",
   "metadata": {},
   "source": [
    "Female Probability"
   ]
  },
  {
   "cell_type": "code",
   "execution_count": 13,
   "id": "8128e8d1-28ba-433a-b1a0-c7706f8e433a",
   "metadata": {
    "tags": []
   },
   "outputs": [
    {
     "data": {
      "text/plain": [
       "90.099009900990097"
      ]
     },
     "execution_count": 13,
     "metadata": {},
     "output_type": "execute_result"
    }
   ],
   "source": [
    "depression_option = students.where(\"Gender\",are.equal_to(\"Female\")).group(\"Depression\").column(\"Depression\")\n",
    "anxiety_option = students.where(\"Gender\",are.equal_to(\"Female\")).group(\"Anxiety\").column(\"Anxiety\")\n",
    "panic_attack_option = students.where(\"Gender\",are.equal_to(\"Female\")).group(\"Panic Attacks\").column(\"Panic Attacks\")\n",
    "num_observations = sum(students.group(\"Major\").column(\"count\"))\n",
    "\n",
    "yes = 0\n",
    "no = 0\n",
    "for obs in range(num_observations):\n",
    "    anxiety = np.random.choice(anxiety_option)\n",
    "    depression = np.random.choice(depression_option)\n",
    "    panic_attack = np.random.choice(panic_attack_option)\n",
    "    if anxiety == 'Yes':\n",
    "        yes += 1\n",
    "    elif depression == 'Yes':\n",
    "        yes += 1\n",
    "    elif panic_attack == 'Yes':\n",
    "        yes += 1\n",
    "    else:\n",
    "        no+=1\n",
    "simulated_num_disorder = yes/num_observations\n",
    "simulated_num_disorder = 100*(simulated_num_disorder)\n",
    "simulated_num_disorder"
   ]
  },
  {
   "cell_type": "markdown",
   "id": "8708cb7c-99ad-47bc-acd9-2cd276793bfd",
   "metadata": {},
   "source": [
    "Male Probability"
   ]
  },
  {
   "cell_type": "code",
   "execution_count": 34,
   "id": "332c4007-83fe-4c38-afa3-d346f3c82b84",
   "metadata": {
    "tags": []
   },
   "outputs": [
    {
     "data": {
      "text/plain": [
       "88.118811881188122"
      ]
     },
     "execution_count": 34,
     "metadata": {},
     "output_type": "execute_result"
    }
   ],
   "source": [
    "depression_option = students.where(\"Gender\",are.equal_to(\"Male\")).group(\"Depression\").column(\"Depression\")\n",
    "anxiety_option = students.where(\"Gender\",are.equal_to(\"Male\")).group(\"Anxiety\").column(\"Anxiety\")\n",
    "panic_attack_option = students.where(\"Gender\",are.equal_to(\"Male\")).group(\"Panic Attacks\").column(\"Panic Attacks\")\n",
    "num_observations = sum(students.group(\"Major\").column(\"count\"))\n",
    "\n",
    "yes = 0\n",
    "no = 0\n",
    "for obs in range(num_observations):\n",
    "    anxiety = np.random.choice(anxiety_option)\n",
    "    depression = np.random.choice(depression_option)\n",
    "    panic_attack = np.random.choice(panic_attack_option)\n",
    "    if anxiety == 'Yes':\n",
    "        yes += 1\n",
    "    elif depression == 'Yes':\n",
    "        yes += 1\n",
    "    elif panic_attack == 'Yes':\n",
    "        yes += 1\n",
    "    else:\n",
    "        no+=1\n",
    "simulated_num_disorder = yes/num_observations\n",
    "simulated_num_disorder = 100*(simulated_num_disorder)\n",
    "simulated_num_disorder"
   ]
  },
  {
   "cell_type": "markdown",
   "id": "b62f8e6b-c8fc-4e69-9d39-bb68dc683e2b",
   "metadata": {},
   "source": [
    "Probability of depression"
   ]
  },
  {
   "cell_type": "code",
   "execution_count": 35,
   "id": "101ca3e3-7285-4e03-b93b-6aa4413a9446",
   "metadata": {
    "tags": []
   },
   "outputs": [
    {
     "data": {
      "text/plain": [
       "56.435643564356432"
      ]
     },
     "execution_count": 35,
     "metadata": {},
     "output_type": "execute_result"
    }
   ],
   "source": [
    "depression_option = students.group(\"Depression\").column(\"Depression\")\n",
    "num_observations = sum(students.group(\"Major\").column(\"count\"))\n",
    "\n",
    "yes = 0\n",
    "no = 0\n",
    "for obs in range(num_observations):\n",
    "    depression = np.random.choice(depression_option)\n",
    "    if depression == 'Yes':\n",
    "        yes += 1\n",
    "    else:\n",
    "        no+=1\n",
    "simulated_num_disorder = yes/num_observations\n",
    "simulated_num_disorder = 100*(simulated_num_disorder)\n",
    "simulated_num_disorder\n",
    "    "
   ]
  },
  {
   "cell_type": "code",
   "execution_count": 73,
   "id": "30013f44-06c4-4791-86ef-883dc485b40c",
   "metadata": {
    "tags": []
   },
   "outputs": [
    {
     "data": {
      "text/plain": [
       "50.495049504950494"
      ]
     },
     "execution_count": 73,
     "metadata": {},
     "output_type": "execute_result"
    }
   ],
   "source": [
    "anxiety_option = students.group(\"Anxiety\").column(\"Anxiety\")\n",
    "num_observations = sum(students.group(\"Major\").column(\"count\"))\n",
    "\n",
    "yes = 0\n",
    "no = 0\n",
    "for obs in range(num_observations):\n",
    "    anxiety = np.random.choice(anxiety_option)\n",
    "    if anxiety == 'Yes':\n",
    "        yes += 1\n",
    "    else:\n",
    "        no+=1\n",
    "simulated_num_disorder = yes/num_observations\n",
    "simulated_num_disorder = 100*(simulated_num_disorder)\n",
    "simulated_num_disorder"
   ]
  },
  {
   "cell_type": "markdown",
   "id": "0023cf60-979a-41c6-ab86-95e6fc53f85c",
   "metadata": {},
   "source": [
    "Probability of Students with Business Information Techology Degree having a form of mental disorder"
   ]
  },
  {
   "cell_type": "code",
   "execution_count": 14,
   "id": "f2e397e7-a74f-4bfb-acd1-a2811c537426",
   "metadata": {
    "tags": []
   },
   "outputs": [],
   "source": [
    "anxiety_option = students.where(\"Major\",are.equal_to(\"Business Information Te\")).group(\"Anxiety\").column(\"Anxiety\")\n",
    "depression_option = students.where(\"Major\",are.equal_to(\"Business Information Te\")).group(\"Depression\").column(\"Depression\")\n",
    "panic_attack_option = students.where(\"Major\",are.equal_to(\"Business Information Te\")).group(\"Panic Attacks\").column(\"Panic Attacks\")\n",
    "num_observations = sum(students.group(\"Major\").column(\"count\"))"
   ]
  },
  {
   "cell_type": "code",
   "execution_count": 15,
   "id": "094b39a0-4367-481c-a61a-22413a604c16",
   "metadata": {
    "tags": []
   },
   "outputs": [
    {
     "data": {
      "text/plain": [
       "90.099009900990097"
      ]
     },
     "execution_count": 15,
     "metadata": {},
     "output_type": "execute_result"
    }
   ],
   "source": [
    "yes = 0\n",
    "no = 0\n",
    "for obs in range(num_observations):\n",
    "    anxiety = np.random.choice(anxiety_option)\n",
    "    depression = np.random.choice(depression_option)\n",
    "    panic_attack = np.random.choice(panic_attack_option)\n",
    "    if anxiety == 'Yes':\n",
    "        yes += 1\n",
    "    elif depression == 'Yes':\n",
    "        yes += 1\n",
    "    elif panic_attack == 'Yes':\n",
    "        yes += 1\n",
    "    else:\n",
    "        no+=1\n",
    "simulated_num_disorder = yes/num_observations\n",
    "simulated_num_disorder = 100*(simulated_num_disorder)\n",
    "simulated_num_disorder"
   ]
  },
  {
   "cell_type": "markdown",
   "id": "379717d0-2be4-4d39-a05d-9ad0db48aec4",
   "metadata": {},
   "source": [
    "### Simulation"
   ]
  },
  {
   "cell_type": "code",
   "execution_count": 74,
   "id": "1c87cc57-cd94-44e3-9af2-fae7a406bcd4",
   "metadata": {
    "tags": []
   },
   "outputs": [
    {
     "ename": "SyntaxError",
     "evalue": "invalid syntax (1389622328.py, line 1)",
     "output_type": "error",
     "traceback": [
      "\u001b[0;36m  Cell \u001b[0;32mIn[74], line 1\u001b[0;36m\u001b[0m\n\u001b[0;31m    student_sample = students.where(.sample(30)\u001b[0m\n\u001b[0m                                    ^\u001b[0m\n\u001b[0;31mSyntaxError\u001b[0m\u001b[0;31m:\u001b[0m invalid syntax\n"
     ]
    }
   ],
   "source": [
    "student_sample = students.where(.sample(30)\n",
    "student_sample"
   ]
  },
  {
   "cell_type": "code",
   "execution_count": 76,
   "id": "1a36ae70-f191-4f81-8cf0-959d6531e461",
   "metadata": {
    "tags": []
   },
   "outputs": [],
   "source": [
    "def probability_table(table,sample_num):\n",
    "    sample_run = []\n",
    "    depression_percentage = []\n",
    "    anxiety_percentage = []\n",
    "    panic_percentage = []\n",
    "    treatment_percentage = []\n",
    "    for i in range(sample_num):\n",
    "        table_sample = table.sample(sample_num)\n",
    "        sample_run.append(i+1)\n",
    "        depression_percentage.append(100*(sum(table_sample.where(\"Depression\", are.equal_to(\"Yes\")).group(\"Major\").column(\"count\"))/sum(table_sample.group(\"Major\").column(\"count\"))))\n",
    "        anxiety_percentage.append(100*(sum(table_sample.where(\"Anxiety\", are.equal_to(\"Yes\")).group(\"Major\").column(\"count\"))/sum(table_sample.group(\"Major\").column(\"count\"))))\n",
    "        panic_percentage.append(100*(sum(table_sample.where(\"Panic Attacks\", are.equal_to(\"Yes\")).group(\"Major\").column(\"count\"))/sum(table_sample.group(\"Major\").column(\"count\"))))\n",
    "        treatment_percentage.append(100*(sum(table_sample.where(\"Treatment\", are.equal_to(\"Yes\")).group(\"Major\").column(\"count\"))/sum(table_sample.group(\"Major\").column(\"count\"))))\n",
    "    probabilty_table = Table().with_columns(\n",
    "    \"Sample #\",sample_run,\n",
    "    \"Depression Probability %\", depression_percentage,\n",
    "    \"Anxiety Probability %\", anxiety_percentage,\n",
    "    \"Panic Attack Probability %\", panic_percentage,\n",
    "    \"Treatment Probability %\", treatment_percentage)\n",
    "    return probabilty_table\n",
    "    "
   ]
  },
  {
   "cell_type": "code",
   "execution_count": 77,
   "id": "92d8dc11-af3e-49fd-805e-a9bfd4f552d2",
   "metadata": {
    "tags": []
   },
   "outputs": [
    {
     "data": {
      "text/html": [
       "<table border=\"1\" class=\"dataframe\">\n",
       "    <thead>\n",
       "        <tr>\n",
       "            <th>Sample #</th> <th>Depression Probability %</th> <th>Anxiety Probability %</th> <th>Panic Attack Probability %</th> <th>Treatment Probability %</th>\n",
       "        </tr>\n",
       "    </thead>\n",
       "    <tbody>\n",
       "        <tr>\n",
       "            <td>1       </td> <td>38                      </td> <td>31                   </td> <td>28                        </td> <td>7                      </td>\n",
       "        </tr>\n",
       "        <tr>\n",
       "            <td>2       </td> <td>44                      </td> <td>37                   </td> <td>31                        </td> <td>10                     </td>\n",
       "        </tr>\n",
       "        <tr>\n",
       "            <td>3       </td> <td>33                      </td> <td>25                   </td> <td>18                        </td> <td>6                      </td>\n",
       "        </tr>\n",
       "        <tr>\n",
       "            <td>4       </td> <td>39                      </td> <td>35                   </td> <td>24                        </td> <td>7                      </td>\n",
       "        </tr>\n",
       "        <tr>\n",
       "            <td>5       </td> <td>38                      </td> <td>29                   </td> <td>33                        </td> <td>4                      </td>\n",
       "        </tr>\n",
       "        <tr>\n",
       "            <td>6       </td> <td>37                      </td> <td>35                   </td> <td>36                        </td> <td>5                      </td>\n",
       "        </tr>\n",
       "        <tr>\n",
       "            <td>7       </td> <td>39                      </td> <td>35                   </td> <td>36                        </td> <td>8                      </td>\n",
       "        </tr>\n",
       "        <tr>\n",
       "            <td>8       </td> <td>40                      </td> <td>34                   </td> <td>29                        </td> <td>5                      </td>\n",
       "        </tr>\n",
       "        <tr>\n",
       "            <td>9       </td> <td>31                      </td> <td>29                   </td> <td>36                        </td> <td>5                      </td>\n",
       "        </tr>\n",
       "        <tr>\n",
       "            <td>10      </td> <td>36                      </td> <td>34                   </td> <td>30                        </td> <td>9                      </td>\n",
       "        </tr>\n",
       "    </tbody>\n",
       "</table>\n",
       "<p>... (90 rows omitted)</p>"
      ],
      "text/plain": [
       "Sample # | Depression Probability % | Anxiety Probability % | Panic Attack Probability % | Treatment Probability %\n",
       "1        | 38                       | 31                    | 28                         | 7\n",
       "2        | 44                       | 37                    | 31                         | 10\n",
       "3        | 33                       | 25                    | 18                         | 6\n",
       "4        | 39                       | 35                    | 24                         | 7\n",
       "5        | 38                       | 29                    | 33                         | 4\n",
       "6        | 37                       | 35                    | 36                         | 5\n",
       "7        | 39                       | 35                    | 36                         | 8\n",
       "8        | 40                       | 34                    | 29                         | 5\n",
       "9        | 31                       | 29                    | 36                         | 5\n",
       "10       | 36                       | 34                    | 30                         | 9\n",
       "... (90 rows omitted)"
      ]
     },
     "execution_count": 77,
     "metadata": {},
     "output_type": "execute_result"
    }
   ],
   "source": [
    "sample_table_all = probability_table(students, 100)\n",
    "sample_table_all"
   ]
  },
  {
   "cell_type": "code",
   "execution_count": 78,
   "id": "d9a186f5-73ef-4e37-b0df-e52f89e68a52",
   "metadata": {
    "tags": []
   },
   "outputs": [
    {
     "data": {
      "text/plain": [
       "34.560000000000002"
      ]
     },
     "execution_count": 78,
     "metadata": {},
     "output_type": "execute_result"
    }
   ],
   "source": [
    "np.mean(sample_table_all.column(\"Depression Probability %\"))"
   ]
  },
  {
   "cell_type": "code",
   "execution_count": 79,
   "id": "8c736f76-1b09-40de-840e-2b7a55d101fd",
   "metadata": {
    "tags": []
   },
   "outputs": [
    {
     "data": {
      "text/plain": [
       "32.939999999999998"
      ]
     },
     "execution_count": 79,
     "metadata": {},
     "output_type": "execute_result"
    }
   ],
   "source": [
    "np.mean(sample_table_all.column(\"Anxiety Probability %\"))"
   ]
  },
  {
   "cell_type": "code",
   "execution_count": 80,
   "id": "65e790b5-822a-45e9-9da1-88af99683e61",
   "metadata": {
    "tags": []
   },
   "outputs": [
    {
     "data": {
      "text/plain": [
       "32.289999999999999"
      ]
     },
     "execution_count": 80,
     "metadata": {},
     "output_type": "execute_result"
    }
   ],
   "source": [
    "np.mean(sample_table_all.column(\"Panic Attack Probability %\"))"
   ]
  },
  {
   "cell_type": "code",
   "execution_count": 81,
   "id": "23b5dc43-4045-4195-8098-9bc3c856ec54",
   "metadata": {
    "tags": []
   },
   "outputs": [
    {
     "data": {
      "text/plain": [
       "6.3099999999999996"
      ]
     },
     "execution_count": 81,
     "metadata": {},
     "output_type": "execute_result"
    }
   ],
   "source": [
    "np.mean(sample_table_all.column(\"Treatment Probability %\"))"
   ]
  },
  {
   "cell_type": "code",
   "execution_count": 82,
   "id": "e6a71ebd-d5ff-4952-8ace-74bbab35974a",
   "metadata": {
    "tags": []
   },
   "outputs": [
    {
     "data": {
      "image/png": "[encoded data removed]",
      "text/plain": [
       "<Figure size 600x600 with 1 Axes>"
      ]
     },
     "metadata": {},
     "output_type": "display_data"
    }
   ],
   "source": [
    "sample_table_all.plot(\"Sample #\")"
   ]
  },
  {
   "cell_type": "code",
   "execution_count": 147,
   "id": "9153cca4-5a01-4183-a2fd-a819fa74980e",
   "metadata": {
    "tags": []
   },
   "outputs": [
    {
     "data": {
      "image/png": "[encoded data removed]",
      "text/plain": [
       "<Figure size 500x500 with 1 Axes>"
      ]
     },
     "metadata": {},
     "output_type": "display_data"
    }
   ],
   "source": [
    "sample_table_all.scatter(\"Sample #\")"
   ]
  },
  {
   "cell_type": "code",
   "execution_count": 137,
   "id": "1dca222e-2b39-488c-a59f-bb8b26f066f3",
   "metadata": {
    "tags": []
   },
   "outputs": [
    {
     "data": {
      "image/png": "[encoded data removed]",
      "text/plain": [
       "<Figure size 500x500 with 1 Axes>"
      ]
     },
     "metadata": {},
     "output_type": "display_data"
    }
   ],
   "source": [
    "sample_table_all.group(\"Sample #\",np.mean).scatter(\"Sample #\",\"Depression Probability % mean\")"
   ]
  },
  {
   "cell_type": "code",
   "execution_count": 138,
   "id": "381b598b-9dd3-4bdc-9e23-5c2ef206686f",
   "metadata": {
    "tags": []
   },
   "outputs": [
    {
     "data": {
      "image/png": "[encoded data removed]",
      "text/plain": [
       "<Figure size 500x500 with 1 Axes>"
      ]
     },
     "metadata": {},
     "output_type": "display_data"
    }
   ],
   "source": [
    "sample_table_all.group(\"Sample #\",np.mean).scatter(\"Sample #\",\"Anxiety Probability % mean\")"
   ]
  },
  {
   "cell_type": "code",
   "execution_count": 140,
   "id": "71f43a97-0470-4913-9818-7faf03557ebf",
   "metadata": {
    "tags": []
   },
   "outputs": [
    {
     "data": {
      "image/png": "[encoded data removed]",
      "text/plain": [
       "<Figure size 500x500 with 1 Axes>"
      ]
     },
     "metadata": {},
     "output_type": "display_data"
    }
   ],
   "source": [
    "sample_table_all.group(\"Sample #\",np.mean).scatter(\"Sample #\",\"Panic Attack Probability % mean\")"
   ]
  },
  {
   "cell_type": "code",
   "execution_count": 54,
   "id": "c1109547-574f-4903-bc58-f7f8b7312523",
   "metadata": {},
   "outputs": [
    {
     "ename": "NameError",
     "evalue": "name 'sample_table_all' is not defined",
     "output_type": "error",
     "traceback": [
      "\u001b[0;31m---------------------------------------------------------------------------\u001b[0m",
      "\u001b[0;31mNameError\u001b[0m                                 Traceback (most recent call last)",
      "Cell \u001b[0;32mIn[54], line 1\u001b[0m\n\u001b[0;32m----> 1\u001b[0m \u001b[43msample_table_all\u001b[49m\u001b[38;5;241m.\u001b[39mgroup(\u001b[38;5;124m\"\u001b[39m\u001b[38;5;124mSample #\u001b[39m\u001b[38;5;124m\"\u001b[39m,np\u001b[38;5;241m.\u001b[39mmean)\u001b[38;5;241m.\u001b[39mscatter(\u001b[38;5;124m\"\u001b[39m\u001b[38;5;124mSample #\u001b[39m\u001b[38;5;124m\"\u001b[39m,\u001b[38;5;124m\"\u001b[39m\u001b[38;5;124mTreatment Probability \u001b[39m\u001b[38;5;124m%\u001b[39m\u001b[38;5;124m mean\u001b[39m\u001b[38;5;124m\"\u001b[39m)\n",
      "\u001b[0;31mNameError\u001b[0m: name 'sample_table_all' is not defined"
     ]
    }
   ],
   "source": [
    "sample_table_all.group(\"Sample #\",np.mean).scatter(\"Sample #\",\"Treatment Probability % mean\")"
   ]
  },
  {
   "cell_type": "code",
   "execution_count": null,
   "id": "388a3278-954c-4e40-bdf8-45e12b52e113",
   "metadata": {},
   "outputs": [],
   "source": []
  }
 ],
 "metadata": {
  "kernelspec": {
   "display_name": "Python 3 (ipykernel)",
   "language": "python",
   "name": "python3"
  },
  "language_info": {
   "codemirror_mode": {
    "name": "ipython",
    "version": 3
   },
   "file_extension": ".py",
   "mimetype": "text/x-python",
   "name": "python",
   "nbconvert_exporter": "python",
   "pygments_lexer": "ipython3",
   "version": "3.10.10"
  }
 },
 "nbformat": 4,
 "nbformat_minor": 5
}
