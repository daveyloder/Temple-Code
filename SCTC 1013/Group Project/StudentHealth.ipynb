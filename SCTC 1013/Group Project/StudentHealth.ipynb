{
 "cells": [
  {
   "cell_type": "markdown",
   "id": "527714ec-e0b7-4e70-9a57-b03804428342",
   "metadata": {},
   "source": [
    "# Project Outline - Data Eagles"
   ]
  },
  {
   "cell_type": "markdown",
   "id": "8f16f342-5a0c-4711-b6a5-546ccdbaadb0",
   "metadata": {
    "tags": []
   },
   "source": [
    "By David Chester, Dorothy Monneh, Aidan, Joshua J, Jonathan Leonidas"
   ]
  },
  {
   "cell_type": "markdown",
   "id": "1a87f8c4-ee64-4a58-b4b4-381da6e5097b",
   "metadata": {},
   "source": [
    "## What is the Project Focus and Dataset of the project?\n",
    "- The Project Focus is exploring Student Mental Health and how it affects students. \n",
    "- The Dataset is a survey collection from students attending the International Islamic University of Malaysia in the year of 2020. The reason we chose this as it was the best information we could find on mental health with the realistic goal of understanding the data in two weeks.\n",
    "## Project Title ideas.\n",
    "- Your out of \"It is what it is.\"\n",
    "- Are you okay?\n",
    "- \n",
    "## Data Visualization\n",
    "- Top Majors that suffer from depression\n",
    "- Explanation of some majors\n",
    "- Male & Female Comparison\n",
    "- Numbers for those seeking treatment\n",
    "- \n",
    "## Hypothesys\n",
    "- Students that major in science or technical majors are more like to suffer from depression and or anxiety.\n",
    "- Students are less likey to seek treatment based on cultural views in Malaysia.\n",
    "\n",
    "## Prediction"
   ]
  },
  {
   "cell_type": "markdown",
   "id": "7ed1addc-a629-4a4a-9e7c-fb02301d625b",
   "metadata": {},
   "source": [
    "https://www.kaggle.com/datasets/shariful07/student-mental-health?resource=download"
   ]
  },
  {
   "cell_type": "markdown",
   "id": "30b6fb72-e243-4f78-8af3-325e54bf4d88",
   "metadata": {},
   "source": [
    "The Data collected from International Islamic University Malaysia"
   ]
  },
  {
   "cell_type": "code",
   "execution_count": 140,
   "id": "de1f565c-c4c5-45d8-9846-73075f3d75a4",
   "metadata": {
    "tags": []
   },
   "outputs": [],
   "source": [
    "# Import Numpy and Datascience modules.\n",
    "import math\n",
    "import numpy as np\n",
    "import pandas as pd\n",
    "from datascience import *\n",
    "\n",
    "# Plotting modules\n",
    "import matplotlib\n",
    "%matplotlib inline\n",
    "import matplotlib.pyplot as plt\n",
    "plt.style.use('fivethirtyeight')\n",
    "import warnings\n",
    "warnings.simplefilter('ignore', UserWarning)\n",
    "# Fix for datascience collections Iterable\n",
    "import collections as collections\n",
    "import collections.abc as abc\n",
    "collections.Iterable = abc.Iterable"
   ]
  },
  {
   "cell_type": "markdown",
   "id": "efd335d5-8087-48f6-8239-0c4390a39f6c",
   "metadata": {},
   "source": [
    "## Data Visualization"
   ]
  },
  {
   "cell_type": "markdown",
   "id": "3d480e4a-8049-46a4-94c4-9fb9cc163898",
   "metadata": {
    "tags": []
   },
   "source": [
    "#### Functions for project"
   ]
  },
  {
   "cell_type": "code",
   "execution_count": 153,
   "id": "03314941-07f0-4f0f-b508-5917f96198dc",
   "metadata": {
    "tags": []
   },
   "outputs": [],
   "source": [
    "def relabel(table,column,search,replace):\n",
    "    for i in range(len(table.column(column))):\n",
    "        if search.lower() == table.column(column)[i].lower():\n",
    "            table.column(column)[i] = replace\n",
    "        else:\n",
    "            pass"
   ]
  },
  {
   "cell_type": "markdown",
   "id": "ce3fbe2f-4cf2-4bdd-8237-33c8e4d496be",
   "metadata": {},
   "source": [
    "### The Dataset"
   ]
  },
  {
   "cell_type": "code",
   "execution_count": 169,
   "id": "2ea2193a-d646-43e8-a51f-0ab072fa4792",
   "metadata": {
    "tags": []
   },
   "outputs": [
    {
     "data": {
      "text/html": [
       "<table border=\"1\" class=\"dataframe\">\n",
       "    <thead>\n",
       "        <tr>\n",
       "            <th>Timestamp</th> <th>Gender</th> <th>Age</th> <th>Major</th> <th>Year</th> <th>GPA</th> <th>Married</th> <th>Depression</th> <th>Anxiety</th> <th>Panic Attacks</th> <th>Treatment</th>\n",
       "        </tr>\n",
       "    </thead>\n",
       "    <tbody>\n",
       "        <tr>\n",
       "            <td>13/07/2020 10:07:32</td> <td>Female</td> <td>19  </td> <td>Biotechnology          </td> <td>Year 3</td> <td>0 - 1.99    </td> <td>No     </td> <td>No        </td> <td>No     </td> <td>No           </td> <td>No       </td>\n",
       "        </tr>\n",
       "        <tr>\n",
       "            <td>13/07/2020 10:10:30</td> <td>Female</td> <td>18  </td> <td>Engineering            </td> <td>year 4</td> <td>3.50 - 4.00 </td> <td>No     </td> <td>No        </td> <td>No     </td> <td>No           </td> <td>No       </td>\n",
       "        </tr>\n",
       "        <tr>\n",
       "            <td>13/07/2020 10:11:26</td> <td>Female</td> <td>24  </td> <td>Communication          </td> <td>Year 2</td> <td>3.50 - 4.00 </td> <td>Yes    </td> <td>Yes       </td> <td>Yes    </td> <td>Yes          </td> <td>No       </td>\n",
       "        </tr>\n",
       "        <tr>\n",
       "            <td>13/07/2020 10:12:18</td> <td>Female</td> <td>24  </td> <td>Diploma Nursing        </td> <td>year 2</td> <td>3.50 - 4.00 </td> <td>No     </td> <td>No        </td> <td>No     </td> <td>No           </td> <td>No       </td>\n",
       "        </tr>\n",
       "        <tr>\n",
       "            <td>13/07/2020 10:12:26</td> <td>Female</td> <td>19  </td> <td>Engineering            </td> <td>year 1</td> <td>3.00 - 3.49 </td> <td>No     </td> <td>Yes       </td> <td>Yes    </td> <td>No           </td> <td>No       </td>\n",
       "        </tr>\n",
       "        <tr>\n",
       "            <td>13/07/2020 10:12:28</td> <td>Female</td> <td>19  </td> <td>Pendidikan Islam       </td> <td>Year 2</td> <td>3.00 - 3.49 </td> <td>No     </td> <td>No        </td> <td>No     </td> <td>No           </td> <td>No       </td>\n",
       "        </tr>\n",
       "        <tr>\n",
       "            <td>13/07/2020 10:14:46</td> <td>Male  </td> <td>23  </td> <td>Radiography            </td> <td>year 1</td> <td>3.00 - 3.49 </td> <td>No     </td> <td>No        </td> <td>No     </td> <td>No           </td> <td>No       </td>\n",
       "        </tr>\n",
       "        <tr>\n",
       "            <td>13/07/2020 10:33:47</td> <td>Female</td> <td>18  </td> <td>Psychology             </td> <td>year 1</td> <td>3.50 - 4.00 </td> <td>No     </td> <td>Yes       </td> <td>Yes    </td> <td>No           </td> <td>Yes      </td>\n",
       "        </tr>\n",
       "        <tr>\n",
       "            <td>13/07/2020 10:34:08</td> <td>Female</td> <td>19  </td> <td>Fiqh fatwa             </td> <td>Year 3</td> <td>3.00 - 3.49 </td> <td>No     </td> <td>No        </td> <td>No     </td> <td>No           </td> <td>No       </td>\n",
       "        </tr>\n",
       "        <tr>\n",
       "            <td>13/07/2020 11:46:13</td> <td>Female</td> <td>18  </td> <td>Psychology             </td> <td>year 1</td> <td>3.50 - 4.00 </td> <td>No     </td> <td>Yes       </td> <td>Yes    </td> <td>Yes          </td> <td>No       </td>\n",
       "        </tr>\n",
       "        <tr>\n",
       "            <td>13/07/2020 11:49:02</td> <td>Male  </td> <td>24  </td> <td>Business Information Te</td> <td>year 1</td> <td>3.00 - 3.49 </td> <td>No     </td> <td>No        </td> <td>Yes    </td> <td>No           </td> <td>No       </td>\n",
       "        </tr>\n",
       "        <tr>\n",
       "            <td>13/07/2020 11:54:58</td> <td>Male  </td> <td>24  </td> <td>Engineering            </td> <td>Year 2</td> <td>2.00 - 2.49 </td> <td>No     </td> <td>No        </td> <td>No     </td> <td>Yes          </td> <td>No       </td>\n",
       "        </tr>\n",
       "        <tr>\n",
       "            <td>13/07/2020 13:57:11</td> <td>Female</td> <td>23  </td> <td>DIPLOMA TESL           </td> <td>Year 3</td> <td>3.50 - 4.00 </td> <td>No     </td> <td>No        </td> <td>No     </td> <td>Yes          </td> <td>No       </td>\n",
       "        </tr>\n",
       "        <tr>\n",
       "            <td>13/07/2020 14:38:12</td> <td>Male  </td> <td>18  </td> <td>Koe                    </td> <td>Year 2</td> <td>3.00 - 3.49 </td> <td>No     </td> <td>No        </td> <td>Yes    </td> <td>No           </td> <td>No       </td>\n",
       "        </tr>\n",
       "        <tr>\n",
       "            <td>13/07/2020 14:48:05</td> <td>Female</td> <td>19  </td> <td>Koe                    </td> <td>year 2</td> <td>3.00 - 3.49 </td> <td>Yes    </td> <td>Yes       </td> <td>No     </td> <td>No           </td> <td>No       </td>\n",
       "        </tr>\n",
       "        <tr>\n",
       "            <td>13/07/2020 16:15:13</td> <td>Female</td> <td>18  </td> <td>BENL                   </td> <td>year 1</td> <td>3.00 - 3.49 </td> <td>No     </td> <td>Yes       </td> <td>No     </td> <td>No           </td> <td>No       </td>\n",
       "        </tr>\n",
       "        <tr>\n",
       "            <td>13/07/2020 17:30:44</td> <td>Female</td> <td>24  </td> <td>Islamic Law            </td> <td>Year 3</td> <td>0 - 1.99    </td> <td>No     </td> <td>No        </td> <td>No     </td> <td>Yes          </td> <td>No       </td>\n",
       "        </tr>\n",
       "        <tr>\n",
       "            <td>13/07/2020 19:08:32</td> <td>Female</td> <td>18  </td> <td>Islamic Education      </td> <td>year 1</td> <td>3.50 - 4.00 </td> <td>No     </td> <td>No        </td> <td>No     </td> <td>No           </td> <td>No       </td>\n",
       "        </tr>\n",
       "        <tr>\n",
       "            <td>13/07/2020 19:56:49</td> <td>Female</td> <td>21  </td> <td>Computer Science       </td> <td>year 1</td> <td>3.50 - 4.00 </td> <td>No     </td> <td>No        </td> <td>Yes    </td> <td>No           </td> <td>No       </td>\n",
       "        </tr>\n",
       "        <tr>\n",
       "            <td>13/07/2020 21:21:42</td> <td>Male  </td> <td>18  </td> <td>Engineering            </td> <td>Year 2</td> <td>3.00 - 3.49 </td> <td>No     </td> <td>Yes       </td> <td>Yes    </td> <td>No           </td> <td>No       </td>\n",
       "        </tr>\n",
       "        <tr>\n",
       "            <td>13/07/2020 21:22:56</td> <td>Female</td> <td>19  </td> <td>Nursing                </td> <td>Year 3</td> <td>3.50 - 4.00 </td> <td>Yes    </td> <td>Yes       </td> <td>No     </td> <td>Yes          </td> <td>No       </td>\n",
       "        </tr>\n",
       "        <tr>\n",
       "            <td>13/07/2020 21:23:57</td> <td>Female</td> <td>23  </td> <td>Pendidikan Islam       </td> <td>year 4</td> <td>3.50 - 4.00 </td> <td>No     </td> <td>No        </td> <td>No     </td> <td>No           </td> <td>No       </td>\n",
       "        </tr>\n",
       "        <tr>\n",
       "            <td>18/07/2020 20:16:21</td> <td>Male  </td> <td>20  </td> <td>Biomedical science     </td> <td>Year 2</td> <td>3.00 - 3.49 </td> <td>No     </td> <td>No        </td> <td>No     </td> <td>No           </td> <td>No       </td>\n",
       "        </tr>\n",
       "        <tr>\n",
       "            <td>8/7/2020 12:02     </td> <td>Female</td> <td>18  </td> <td>Engineering            </td> <td>year 1</td> <td>3.00 - 3.49 </td> <td>No     </td> <td>Yes       </td> <td>No     </td> <td>Yes          </td> <td>No       </td>\n",
       "        </tr>\n",
       "        <tr>\n",
       "            <td>8/7/2020 12:04     </td> <td>Male  </td> <td>21  </td> <td>Islamic education      </td> <td>year 2</td> <td>3.00 - 3.49 </td> <td>No     </td> <td>No        </td> <td>Yes    </td> <td>No           </td> <td>No       </td>\n",
       "        </tr>\n",
       "        <tr>\n",
       "            <td>8/7/2020 12:05     </td> <td>Male  </td> <td>19  </td> <td>Business Information Te</td> <td>Year 1</td> <td>3.00 - 3.49 </td> <td>No     </td> <td>Yes       </td> <td>Yes    </td> <td>Yes          </td> <td>No       </td>\n",
       "        </tr>\n",
       "        <tr>\n",
       "            <td>8/7/2020 12:06     </td> <td>Female</td> <td>22  </td> <td>Laws                   </td> <td>year 3</td> <td>3.00 - 3.49 </td> <td>Yes    </td> <td>Yes       </td> <td>No     </td> <td>No           </td> <td>No       </td>\n",
       "        </tr>\n",
       "        <tr>\n",
       "            <td>8/7/2020 12:13     </td> <td>Male  </td> <td>23  </td> <td>Mathemathics           </td> <td>year 4</td> <td>3.00 - 3.49 </td> <td>No     </td> <td>No        </td> <td>No     </td> <td>No           </td> <td>No       </td>\n",
       "        </tr>\n",
       "        <tr>\n",
       "            <td>8/7/2020 12:31     </td> <td>Male  </td> <td>19  </td> <td>Engineering            </td> <td>Year 2</td> <td>3.50 - 4.00 </td> <td>No     </td> <td>No        </td> <td>No     </td> <td>Yes          </td> <td>No       </td>\n",
       "        </tr>\n",
       "        <tr>\n",
       "            <td>8/7/2020 12:32     </td> <td>Female</td> <td>23  </td> <td>Pendidikan islam       </td> <td>year 2</td> <td>3.50 - 4.00 </td> <td>Yes    </td> <td>Yes       </td> <td>No     </td> <td>Yes          </td> <td>No       </td>\n",
       "        </tr>\n",
       "        <tr>\n",
       "            <td>8/7/2020 12:33     </td> <td>Female</td> <td>18  </td> <td>Computer Science       </td> <td>year 1</td> <td>3.50 - 4.00 </td> <td>No     </td> <td>No        </td> <td>Yes    </td> <td>No           </td> <td>No       </td>\n",
       "        </tr>\n",
       "        <tr>\n",
       "            <td>8/7/2020 12:35     </td> <td>Female</td> <td>19  </td> <td>Human Resources        </td> <td>Year 2</td> <td>2.50 - 2.99 </td> <td>No     </td> <td>No        </td> <td>No     </td> <td>No           </td> <td>No       </td>\n",
       "        </tr>\n",
       "        <tr>\n",
       "            <td>8/7/2020 12:39     </td> <td>Male  </td> <td>18  </td> <td>Irkhs                  </td> <td>year 1</td> <td>3.50 - 4.00 </td> <td>No     </td> <td>No        </td> <td>Yes    </td> <td>Yes          </td> <td>No       </td>\n",
       "        </tr>\n",
       "        <tr>\n",
       "            <td>8/7/2020 12:39     </td> <td>Female</td> <td>20  </td> <td>Psychology             </td> <td>year 1</td> <td>3.50 - 4.00 </td> <td>No     </td> <td>No        </td> <td>No     </td> <td>No           </td> <td>No       </td>\n",
       "        </tr>\n",
       "        <tr>\n",
       "            <td>8/7/2020 12:39     </td> <td>Female</td> <td>24  </td> <td>Engineering            </td> <td>Year 3</td> <td>3.50 - 4.00 </td> <td>Yes    </td> <td>Yes       </td> <td>No     </td> <td>No           </td> <td>No       </td>\n",
       "        </tr>\n",
       "        <tr>\n",
       "            <td>8/7/2020 12:40     </td> <td>Female</td> <td>18  </td> <td>Computer Science       </td> <td>year 1</td> <td>3.00 - 3.49 </td> <td>No     </td> <td>Yes       </td> <td>No     </td> <td>No           </td> <td>No       </td>\n",
       "        </tr>\n",
       "        <tr>\n",
       "            <td>8/7/2020 12:41     </td> <td>Male  </td> <td>19  </td> <td>Engineering            </td> <td>year 1</td> <td>3.00 - 3.49 </td> <td>No     </td> <td>No        </td> <td>No     </td> <td>No           </td> <td>No       </td>\n",
       "        </tr>\n",
       "        <tr>\n",
       "            <td>8/7/2020 12:43     </td> <td>Female</td> <td>18  </td> <td>KENMS                  </td> <td>Year 2</td> <td>3.50 - 4.00 </td> <td>No     </td> <td>No        </td> <td>Yes    </td> <td>No           </td> <td>No       </td>\n",
       "        </tr>\n",
       "        <tr>\n",
       "            <td>8/7/2020 12:43     </td> <td>Male  </td> <td>24  </td> <td>Computer Science       </td> <td>Year 3</td> <td>3.50 - 4.00 </td> <td>No     </td> <td>No        </td> <td>No     </td> <td>No           </td> <td>No       </td>\n",
       "        </tr>\n",
       "        <tr>\n",
       "            <td>8/7/2020 12:46     </td> <td>Female</td> <td>24  </td> <td>Accounting             </td> <td>year 3</td> <td>3.00 - 3.49 </td> <td>No     </td> <td>No        </td> <td>No     </td> <td>No           </td> <td>No       </td>\n",
       "        </tr>\n",
       "        <tr>\n",
       "            <td>8/7/2020 12:52     </td> <td>Female</td> <td>24  </td> <td>ENM                    </td> <td>year 4</td> <td>3.00 - 3.49 </td> <td>Yes    </td> <td>Yes       </td> <td>Yes    </td> <td>Yes          </td> <td>No       </td>\n",
       "        </tr>\n",
       "        <tr>\n",
       "            <td>8/7/2020 13:05     </td> <td>Female</td> <td>20  </td> <td>Business Information Te</td> <td>Year 2</td> <td>3.50 - 4.00 </td> <td>No     </td> <td>No        </td> <td>Yes    </td> <td>No           </td> <td>No       </td>\n",
       "        </tr>\n",
       "        <tr>\n",
       "            <td>8/7/2020 13:07     </td> <td>Female</td> <td>18  </td> <td>Marine science         </td> <td>year 2</td> <td>3.50 - 4.00 </td> <td>Yes    </td> <td>Yes       </td> <td>Yes    </td> <td>Yes          </td> <td>No       </td>\n",
       "        </tr>\n",
       "        <tr>\n",
       "            <td>8/7/2020 13:12     </td> <td>Female</td> <td>19  </td> <td>Engineering            </td> <td>year 1</td> <td>3.00 - 3.49 </td> <td>No     </td> <td>No        </td> <td>No     </td> <td>Yes          </td> <td>No       </td>\n",
       "        </tr>\n",
       "        <tr>\n",
       "            <td>8/7/2020 13:13     </td> <td>Female</td> <td>18  </td> <td>Koe                    </td> <td>Year 2</td> <td>3.00 - 3.49 </td> <td>No     </td> <td>No        </td> <td>No     </td> <td>No           </td> <td>No       </td>\n",
       "        </tr>\n",
       "        <tr>\n",
       "            <td>8/7/2020 13:13     </td> <td>Female</td> <td>24  </td> <td>Computer Science       </td> <td>year 1</td> <td>3.50 - 4.00 </td> <td>No     </td> <td>No        </td> <td>No     </td> <td>No           </td> <td>No       </td>\n",
       "        </tr>\n",
       "        <tr>\n",
       "            <td>8/7/2020 13:15     </td> <td>Female</td> <td>24  </td> <td>Engineering            </td> <td>year 1</td> <td>3.00 - 3.49 </td> <td>No     </td> <td>No        </td> <td>No     </td> <td>No           </td> <td>No       </td>\n",
       "        </tr>\n",
       "        <tr>\n",
       "            <td>8/7/2020 13:17     </td> <td>Female</td> <td>23  </td> <td>Computer Science       </td> <td>Year 3</td> <td>3.50 - 4.00 </td> <td>No     </td> <td>Yes       </td> <td>Yes    </td> <td>Yes          </td> <td>No       </td>\n",
       "        </tr>\n",
       "        <tr>\n",
       "            <td>8/7/2020 13:29     </td> <td>Female</td> <td>18  </td> <td>Banking Studies        </td> <td>year 1</td> <td>3.50 - 4.00 </td> <td>No     </td> <td>No        </td> <td>No     </td> <td>No           </td> <td>No       </td>\n",
       "        </tr>\n",
       "        <tr>\n",
       "            <td>8/7/2020 13:35     </td> <td>Female</td> <td>19  </td> <td>Engineering            </td> <td>year 1</td> <td>3.50 - 4.00 </td> <td>No     </td> <td>No        </td> <td>No     </td> <td>No           </td> <td>No       </td>\n",
       "        </tr>\n",
       "        <tr>\n",
       "            <td>8/7/2020 13:41     </td> <td>Male  </td> <td>18  </td> <td>Engineering            </td> <td>Year 2</td> <td>3.00 - 3.49 </td> <td>Yes    </td> <td>Yes       </td> <td>Yes    </td> <td>No           </td> <td>No       </td>\n",
       "        </tr>\n",
       "        <tr>\n",
       "            <td>8/7/2020 13:58     </td> <td>Female</td> <td>24  </td> <td>Business Information Te</td> <td>Year 3</td> <td>3.50 - 4.00 </td> <td>Yes    </td> <td>Yes       </td> <td>Yes    </td> <td>Yes          </td> <td>Yes      </td>\n",
       "        </tr>\n",
       "        <tr>\n",
       "            <td>8/7/2020 14:05     </td> <td>Female</td> <td>24  </td> <td>Computer Science       </td> <td>year 4</td> <td>3.50 - 4.00 </td> <td>No     </td> <td>No        </td> <td>No     </td> <td>No           </td> <td>No       </td>\n",
       "        </tr>\n",
       "        <tr>\n",
       "            <td>8/7/2020 14:27     </td> <td>Female</td> <td>23  </td> <td>Business Administration</td> <td>Year 2</td> <td>3.00 - 3.49 </td> <td>No     </td> <td>No        </td> <td>No     </td> <td>No           </td> <td>No       </td>\n",
       "        </tr>\n",
       "        <tr>\n",
       "            <td>8/7/2020 14:29     </td> <td>Male  </td> <td>18  </td> <td>Computer Science       </td> <td>year 2</td> <td>3.00 - 3.49 </td> <td>No     </td> <td>No        </td> <td>No     </td> <td>No           </td> <td>No       </td>\n",
       "        </tr>\n",
       "        <tr>\n",
       "            <td>8/7/2020 14:29     </td> <td>Male  </td> <td>19  </td> <td>Computer Science       </td> <td>year 1</td> <td>3.50 - 4.00 </td> <td>No     </td> <td>No        </td> <td>No     </td> <td>Yes          </td> <td>No       </td>\n",
       "        </tr>\n",
       "        <tr>\n",
       "            <td>8/7/2020 14:31     </td> <td>Male  </td> <td>18  </td> <td>Computer Science       </td> <td>Year 2</td> <td>3.50 - 4.00 </td> <td>Yes    </td> <td>Yes       </td> <td>Yes    </td> <td>No           </td> <td>Yes      </td>\n",
       "        </tr>\n",
       "        <tr>\n",
       "            <td>8/7/2020 14:41     </td> <td>Female</td> <td>19  </td> <td>Business Information Te</td> <td>year 1</td> <td>3.00 - 3.49 </td> <td>No     </td> <td>Yes       </td> <td>Yes    </td> <td>Yes          </td> <td>No       </td>\n",
       "        </tr>\n",
       "        <tr>\n",
       "            <td>8/7/2020 14:43     </td> <td>Female</td> <td>18  </td> <td>Engineering            </td> <td>year 1</td> <td>2.00 - 2.49 </td> <td>No     </td> <td>No        </td> <td>No     </td> <td>No           </td> <td>No       </td>\n",
       "        </tr>\n",
       "        <tr>\n",
       "            <td>8/7/2020 14:43     </td> <td>Female</td> <td>18  </td> <td>Law                    </td> <td>Year 3</td> <td>3.00 - 3.49 </td> <td>No     </td> <td>Yes       </td> <td>Yes    </td> <td>No           </td> <td>No       </td>\n",
       "        </tr>\n",
       "        <tr>\n",
       "            <td>8/7/2020 14:45     </td> <td>Female</td> <td>19  </td> <td>Business Information Te</td> <td>year 1</td> <td>2.50 - 2.99 </td> <td>No     </td> <td>Yes       </td> <td>Yes    </td> <td>Yes          </td> <td>No       </td>\n",
       "        </tr>\n",
       "        <tr>\n",
       "            <td>8/7/2020 14:47     </td> <td>Female</td> <td>18  </td> <td>KIRKHS                 </td> <td>year 1</td> <td>3.50 - 4.00 </td> <td>No     </td> <td>No        </td> <td>No     </td> <td>No           </td> <td>No       </td>\n",
       "        </tr>\n",
       "        <tr>\n",
       "            <td>8/7/2020 14:56     </td> <td>Female</td> <td>24  </td> <td>Engineering            </td> <td>Year 2</td> <td>2.50 - 2.99 </td> <td>Yes    </td> <td>Yes       </td> <td>No     </td> <td>Yes          </td> <td>Yes      </td>\n",
       "        </tr>\n",
       "        <tr>\n",
       "            <td>8/7/2020 14:57     </td> <td>Female</td> <td>24  </td> <td>Business Information Te</td> <td>Year 3</td> <td>3.00 - 3.49 </td> <td>No     </td> <td>No        </td> <td>Yes    </td> <td>No           </td> <td>No       </td>\n",
       "        </tr>\n",
       "        <tr>\n",
       "            <td>8/7/2020 14:57     </td> <td>Female</td> <td>22  </td> <td>Engineering            </td> <td>year 4</td> <td>3.50 - 4.00 </td> <td>No     </td> <td>No        </td> <td>No     </td> <td>No           </td> <td>No       </td>\n",
       "        </tr>\n",
       "        <tr>\n",
       "            <td>8/7/2020 14:58     </td> <td>Female</td> <td>20  </td> <td>Usuluddin              </td> <td>year 2</td> <td>3.00 - 3.49 </td> <td>No     </td> <td>Yes       </td> <td>No     </td> <td>No           </td> <td>No       </td>\n",
       "        </tr>\n",
       "        <tr>\n",
       "            <td>8/7/2020 15:07     </td> <td>Male  </td> <td>nan </td> <td>Business Information Te</td> <td>year 1</td> <td>0 - 1.99    </td> <td>No     </td> <td>No        </td> <td>No     </td> <td>No           </td> <td>No       </td>\n",
       "        </tr>\n",
       "        <tr>\n",
       "            <td>8/7/2020 15:08     </td> <td>Male  </td> <td>23  </td> <td>TAASL                  </td> <td>year 2</td> <td>3.50 - 4.00 </td> <td>No     </td> <td>No        </td> <td>No     </td> <td>Yes          </td> <td>No       </td>\n",
       "        </tr>\n",
       "        <tr>\n",
       "            <td>8/7/2020 15:09     </td> <td>Male  </td> <td>18  </td> <td>Computer Science       </td> <td>year 1</td> <td>3.50 - 4.00 </td> <td>No     </td> <td>No        </td> <td>Yes    </td> <td>Yes          </td> <td>No       </td>\n",
       "        </tr>\n",
       "        <tr>\n",
       "            <td>8/7/2020 15:12     </td> <td>Female</td> <td>19  </td> <td>Engineering            </td> <td>year 1</td> <td>3.50 - 4.00 </td> <td>No     </td> <td>No        </td> <td>Yes    </td> <td>No           </td> <td>No       </td>\n",
       "        </tr>\n",
       "        <tr>\n",
       "            <td>8/7/2020 15:14     </td> <td>Female</td> <td>18  </td> <td>Engineering            </td> <td>year 4</td> <td>3.50 - 4.00 </td> <td>No     </td> <td>No        </td> <td>No     </td> <td>No           </td> <td>No       </td>\n",
       "        </tr>\n",
       "        <tr>\n",
       "            <td>8/7/2020 15:14     </td> <td>Male  </td> <td>24  </td> <td>Computer Science       </td> <td>year 2</td> <td>3.00 - 3.49 </td> <td>No     </td> <td>Yes       </td> <td>No     </td> <td>No           </td> <td>No       </td>\n",
       "        </tr>\n",
       "        <tr>\n",
       "            <td>8/7/2020 15:18     </td> <td>Female</td> <td>24  </td> <td>Computer Science       </td> <td>year 3</td> <td>3.50 - 4.00 </td> <td>No     </td> <td>No        </td> <td>No     </td> <td>Yes          </td> <td>No       </td>\n",
       "        </tr>\n",
       "        <tr>\n",
       "            <td>8/7/2020 15:27     </td> <td>Female</td> <td>23  </td> <td>ALA                    </td> <td>year 1</td> <td>2.50 - 2.99 </td> <td>Yes    </td> <td>Yes       </td> <td>No     </td> <td>Yes          </td> <td>Yes      </td>\n",
       "        </tr>\n",
       "        <tr>\n",
       "            <td>8/7/2020 15:37     </td> <td>Female</td> <td>18  </td> <td>Computer Science       </td> <td>year 2</td> <td>3.50 - 4.00 </td> <td>No     </td> <td>No        </td> <td>Yes    </td> <td>No           </td> <td>No       </td>\n",
       "        </tr>\n",
       "        <tr>\n",
       "            <td>8/7/2020 15:47     </td> <td>Female</td> <td>19  </td> <td>Biomedical science     </td> <td>year 3</td> <td>3.00 - 3.49 </td> <td>No     </td> <td>No        </td> <td>No     </td> <td>No           </td> <td>No       </td>\n",
       "        </tr>\n",
       "        <tr>\n",
       "            <td>8/7/2020 15:48     </td> <td>Female</td> <td>20  </td> <td>Koe                    </td> <td>year 3</td> <td>3.00 - 3.49 </td> <td>Yes    </td> <td>Yes       </td> <td>Yes    </td> <td>Yes          </td> <td>No       </td>\n",
       "        </tr>\n",
       "        <tr>\n",
       "            <td>8/7/2020 15:57     </td> <td>Female</td> <td>19  </td> <td>Computer Science       </td> <td>year 1</td> <td>3.50 - 4.00 </td> <td>No     </td> <td>Yes       </td> <td>No     </td> <td>Yes          </td> <td>Yes      </td>\n",
       "        </tr>\n",
       "        <tr>\n",
       "            <td>8/7/2020 15:58     </td> <td>Male  </td> <td>21  </td> <td>Computer Science       </td> <td>year 1</td> <td>3.00 - 3.49 </td> <td>No     </td> <td>No        </td> <td>No     </td> <td>No           </td> <td>No       </td>\n",
       "        </tr>\n",
       "        <tr>\n",
       "            <td>8/7/2020 16:08     </td> <td>Male  </td> <td>23  </td> <td>Kirkhs                 </td> <td>Year 3</td> <td>3.50 - 4.00 </td> <td>No     </td> <td>No        </td> <td>No     </td> <td>No           </td> <td>No       </td>\n",
       "        </tr>\n",
       "        <tr>\n",
       "            <td>8/7/2020 16:21     </td> <td>Female</td> <td>20  </td> <td>BENL                   </td> <td>Year 3</td> <td>3.00 - 3.49 </td> <td>No     </td> <td>Yes       </td> <td>Yes    </td> <td>No           </td> <td>No       </td>\n",
       "        </tr>\n",
       "        <tr>\n",
       "            <td>8/7/2020 16:22     </td> <td>Female</td> <td>18  </td> <td>Computer Science       </td> <td>year 1</td> <td>3.50 - 4.00 </td> <td>No     </td> <td>No        </td> <td>No     </td> <td>No           </td> <td>No       </td>\n",
       "        </tr>\n",
       "        <tr>\n",
       "            <td>8/7/2020 16:34     </td> <td>Female</td> <td>23  </td> <td>Benl                   </td> <td>year 1</td> <td>3.00 - 3.49 </td> <td>No     </td> <td>No        </td> <td>No     </td> <td>No           </td> <td>No       </td>\n",
       "        </tr>\n",
       "        <tr>\n",
       "            <td>8/7/2020 16:34     </td> <td>Female</td> <td>18  </td> <td>Information Technology </td> <td>Year 3</td> <td>3.00 - 3.49 </td> <td>No     </td> <td>No        </td> <td>No     </td> <td>Yes          </td> <td>No       </td>\n",
       "        </tr>\n",
       "        <tr>\n",
       "            <td>8/7/2020 16:53     </td> <td>Female</td> <td>19  </td> <td>Computer Science       </td> <td>year 1</td> <td>3.50 - 4.00 </td> <td>No     </td> <td>No        </td> <td>No     </td> <td>No           </td> <td>No       </td>\n",
       "        </tr>\n",
       "        <tr>\n",
       "            <td>8/7/2020 17:05     </td> <td>Female</td> <td>18  </td> <td>CTS                    </td> <td>Year 1</td> <td>3.50 - 4.00 </td> <td>No     </td> <td>No        </td> <td>No     </td> <td>Yes          </td> <td>No       </td>\n",
       "        </tr>\n",
       "        <tr>\n",
       "            <td>8/7/2020 17:37     </td> <td>Female</td> <td>24  </td> <td>Engineering            </td> <td>year 1</td> <td>3.50 - 4.00 </td> <td>No     </td> <td>No        </td> <td>No     </td> <td>Yes          </td> <td>No       </td>\n",
       "        </tr>\n",
       "        <tr>\n",
       "            <td>8/7/2020 17:46     </td> <td>Female</td> <td>24  </td> <td>Engineering            </td> <td>year 1</td> <td>3.50 - 4.00 </td> <td>No     </td> <td>No        </td> <td>No     </td> <td>No           </td> <td>No       </td>\n",
       "        </tr>\n",
       "        <tr>\n",
       "            <td>8/7/2020 17:50     </td> <td>Female</td> <td>23  </td> <td>Econs                  </td> <td>year 1</td> <td>3.50 - 4.00 </td> <td>No     </td> <td>Yes       </td> <td>Yes    </td> <td>No           </td> <td>No       </td>\n",
       "        </tr>\n",
       "        <tr>\n",
       "            <td>8/7/2020 18:10     </td> <td>Female</td> <td>18  </td> <td>Koe                    </td> <td>Year 3</td> <td>3.00 - 3.49 </td> <td>No     </td> <td>No        </td> <td>Yes    </td> <td>No           </td> <td>No       </td>\n",
       "        </tr>\n",
       "        <tr>\n",
       "            <td>8/7/2020 18:11     </td> <td>Male  </td> <td>19  </td> <td>MHSC                   </td> <td>Year 3</td> <td>3.00 - 3.49 </td> <td>Yes    </td> <td>Yes       </td> <td>No     </td> <td>Yes          </td> <td>No       </td>\n",
       "        </tr>\n",
       "        <tr>\n",
       "            <td>8/7/2020 19:05     </td> <td>Female</td> <td>18  </td> <td>Malcom                 </td> <td>year 1</td> <td>3.50 - 4.00 </td> <td>No     </td> <td>Yes       </td> <td>No     </td> <td>No           </td> <td>No       </td>\n",
       "        </tr>\n",
       "        <tr>\n",
       "            <td>8/7/2020 19:32     </td> <td>Female</td> <td>24  </td> <td>Kop                    </td> <td>year 4</td> <td>3.00 - 3.49 </td> <td>No     </td> <td>No        </td> <td>Yes    </td> <td>No           </td> <td>No       </td>\n",
       "        </tr>\n",
       "        <tr>\n",
       "            <td>8/7/2020 20:36     </td> <td>Female</td> <td>24  </td> <td>Biomedical science     </td> <td>year 1</td> <td>3.00 - 3.49 </td> <td>No     </td> <td>No        </td> <td>No     </td> <td>No           </td> <td>No       </td>\n",
       "        </tr>\n",
       "        <tr>\n",
       "            <td>8/7/2020 21:21     </td> <td>Female</td> <td>18  </td> <td>Laws                   </td> <td>Year 3</td> <td>3.50 - 4.00 </td> <td>No     </td> <td>No        </td> <td>No     </td> <td>Yes          </td> <td>No       </td>\n",
       "        </tr>\n",
       "        <tr>\n",
       "            <td>8/7/2020 22:35     </td> <td>Female</td> <td>19  </td> <td>Business Information Te</td> <td>Year 3</td> <td>3.00 - 3.49 </td> <td>Yes    </td> <td>Yes       </td> <td>No     </td> <td>No           </td> <td>No       </td>\n",
       "        </tr>\n",
       "        <tr>\n",
       "            <td>9/7/2020 11:43     </td> <td>Male  </td> <td>24  </td> <td>Business Information Te</td> <td>Year 3</td> <td>3.50 - 4.00 </td> <td>No     </td> <td>No        </td> <td>Yes    </td> <td>No           </td> <td>No       </td>\n",
       "        </tr>\n",
       "        <tr>\n",
       "            <td>9/7/2020 11:57     </td> <td>Female</td> <td>24  </td> <td>Koe                    </td> <td>year 1</td> <td>3.50 - 4.00 </td> <td>No     </td> <td>No        </td> <td>Yes    </td> <td>Yes          </td> <td>No       </td>\n",
       "        </tr>\n",
       "        <tr>\n",
       "            <td>9/7/2020 13:15     </td> <td>Female</td> <td>23  </td> <td>Engineering            </td> <td>year 1</td> <td>3.00 - 3.49 </td> <td>No     </td> <td>Yes       </td> <td>No     </td> <td>No           </td> <td>No       </td>\n",
       "        </tr>\n",
       "        <tr>\n",
       "            <td>9/7/2020 18:24     </td> <td>Female</td> <td>18  </td> <td>Human Sciences         </td> <td>Year 2</td> <td>3.00 - 3.49 </td> <td>No     </td> <td>No        </td> <td>No     </td> <td>Yes          </td> <td>No       </td>\n",
       "        </tr>\n",
       "        <tr>\n",
       "            <td>9/7/2020 6:57      </td> <td>Male  </td> <td>18  </td> <td>Biomedical science     </td> <td>year 1</td> <td>0 - 1.99    </td> <td>No     </td> <td>No        </td> <td>No     </td> <td>No           </td> <td>No       </td>\n",
       "        </tr>\n",
       "    </tbody>\n",
       "</table>"
      ],
      "text/plain": [
       "<IPython.core.display.HTML object>"
      ]
     },
     "metadata": {},
     "output_type": "display_data"
    }
   ],
   "source": [
    "datafile = \"Student Mental health.csv\"\n",
    "students = Table.read_table(datafile)\n",
    "students = students.relabeled([\"Choose your gender\",\"What is your course?\",\"Your current year of Study\",\"What is your CGPA?\",\"Marital status\",\"Do you have Depression?\",\"Do you have Anxiety?\",\"Do you have Panic attack?\",\"Did you seek any specialist for a treatment?\"], [\"Gender\",\"Major\",\"Year\",\"GPA\",\"Married\",\"Depression\",\"Anxiety\",\n",
    "\"Panic Attacks\",\"Treatment\"]\n",
    ")\n",
    "students_nan_age = students.where(\"Age\",are.above(0))\n",
    "relabel(students,\"Major\",\"Engine\",\"Engineering\")\n",
    "relabel(students,\"Major\",\"Engin\",\"Engineering\")\n",
    "relabel(students,\"Major\",\"psychology\",\"Psychology\")\n",
    "relabel(students,\"Major\",\"BCS\",\"Computer Science\")\n",
    "relabel(students,\"Major\",\"BIT\",\"Business Information Technology\")\n",
    "relabel(students,\"Major\",\"IT\",\"Information Technology\")\n",
    "relabel(students,\"Major\",\"Fiqh\",\"Islamic Law\")\n",
    "relabel(students,\"Major\",\"koe\",\"Koe\")\n",
    "## relabel(students,\"GPA\",\"0 - 1.99\",\"1\")\n",
    "## relabel(students,\"GPA\",\"2.00 - 2.49\",\"2\")\n",
    "## relabel(students,\"GPA\",\"2.50 - 2.99\",\"3\")\n",
    "students.sort(\"Timestamp\").show()"
   ]
  },
  {
   "cell_type": "markdown",
   "id": "fd8c890b-847e-43e3-b1fd-2995a0b43474",
   "metadata": {},
   "source": [
    "#### Student Age Numbers"
   ]
  },
  {
   "cell_type": "markdown",
   "id": "fb2351cd-3c4f-4d29-bccf-e56ef68e2200",
   "metadata": {},
   "source": [
    "These values how the number values of all students based off age"
   ]
  },
  {
   "cell_type": "code",
   "execution_count": 170,
   "id": "d9754dfc-fc37-4c14-948a-c9acfa08a99f",
   "metadata": {},
   "outputs": [
    {
     "name": "stdout",
     "output_type": "stream",
     "text": [
      "The minimum age of all students is 18.0\n"
     ]
    }
   ],
   "source": [
    "student_min_age = min(students_nan_age.column(\"Age\"))\n",
    "print(\"The minimum age of all students is \" + str(student_min_age))"
   ]
  },
  {
   "cell_type": "code",
   "execution_count": 171,
   "id": "88cab480-3331-4f71-a3aa-13b39b27b6a3",
   "metadata": {
    "tags": []
   },
   "outputs": [
    {
     "name": "stdout",
     "output_type": "stream",
     "text": [
      "The maximum age of all students is 24.0\n"
     ]
    }
   ],
   "source": [
    "student_max_age = max(students_nan_age.column(\"Age\"))\n",
    "print(\"The maximum age of all students is \" + str(student_max_age))"
   ]
  },
  {
   "cell_type": "code",
   "execution_count": 172,
   "id": "af587281-a238-4d7c-b604-79e2ebda38b2",
   "metadata": {
    "tags": []
   },
   "outputs": [
    {
     "name": "stdout",
     "output_type": "stream",
     "text": [
      "The median age of all students is 19.0\n"
     ]
    }
   ],
   "source": [
    "student_median_age = np.median(students_nan_age.column(\"Age\"))\n",
    "print(\"The median age of all students is \" + str(student_median_age))"
   ]
  },
  {
   "cell_type": "code",
   "execution_count": 173,
   "id": "3e182022-f29c-4e51-941f-a77cb6d2dfc7",
   "metadata": {
    "tags": []
   },
   "outputs": [
    {
     "name": "stdout",
     "output_type": "stream",
     "text": [
      "The mean age of all Olympians is 20.53\n"
     ]
    }
   ],
   "source": [
    "student_mean_age = np.mean(students_nan_age.column(\"Age\"))\n",
    "print(\"The mean age of all Olympians is \" + str(student_mean_age))"
   ]
  },
  {
   "cell_type": "code",
   "execution_count": 174,
   "id": "951dc23b-c50f-4c3d-93c3-8a91df3e8080",
   "metadata": {
    "tags": []
   },
   "outputs": [
    {
     "name": "stdout",
     "output_type": "stream",
     "text": [
      "The standard deviation of age of all students is 2.48376729989\n"
     ]
    }
   ],
   "source": [
    "student_standard_deviation_age = np.std(students_nan_age.column(\"Age\"))\n",
    "print(\"The standard deviation of age of all students is \" + str(student_standard_deviation_age))"
   ]
  },
  {
   "cell_type": "markdown",
   "id": "2193518e-89a9-4f57-a1ec-4ade9d6c8fcc",
   "metadata": {},
   "source": [
    "#### Students with Depression"
   ]
  },
  {
   "cell_type": "markdown",
   "id": "097b7d01-efe6-4a53-b875-0729d20542a1",
   "metadata": {},
   "source": [
    "This shows all the table and number values of students that have reported depression"
   ]
  },
  {
   "cell_type": "code",
   "execution_count": 166,
   "id": "38590ddc-daf6-4615-9592-4ab47fa778c8",
   "metadata": {
    "tags": []
   },
   "outputs": [
    {
     "name": "stdout",
     "output_type": "stream",
     "text": [
      "The total amount of students that have reported they have depression is  35\n"
     ]
    }
   ],
   "source": [
    "students_with_depression=students.where(\"Depression\",are.equal_to(\"Yes\"))\n",
    "print(\"The total amount of students that have reported they have depression is \", str(students_with_depression.num_rows))"
   ]
  },
  {
   "cell_type": "code",
   "execution_count": 175,
   "id": "689d0f24-df8a-4baf-9e2a-c7a04ed79b89",
   "metadata": {
    "tags": []
   },
   "outputs": [
    {
     "data": {
      "text/html": [
       "<table border=\"1\" class=\"dataframe\">\n",
       "    <thead>\n",
       "        <tr>\n",
       "            <th>Timestamp</th> <th>Gender</th> <th>Age</th> <th>Major</th> <th>Year</th> <th>GPA</th> <th>Married</th> <th>Anxiety</th> <th>Panic Attacks</th> <th>Treatment</th>\n",
       "        </tr>\n",
       "    </thead>\n",
       "    <tbody>\n",
       "        <tr>\n",
       "            <td>8/7/2020 12:02</td> <td>Female</td> <td>18  </td> <td>Engineering            </td> <td>year 1</td> <td>3.00 - 3.49 </td> <td>No     </td> <td>No     </td> <td>Yes          </td> <td>No       </td>\n",
       "        </tr>\n",
       "        <tr>\n",
       "            <td>8/7/2020 12:05</td> <td>Male  </td> <td>19  </td> <td>Business Information Te</td> <td>Year 1</td> <td>3.00 - 3.49 </td> <td>No     </td> <td>Yes    </td> <td>Yes          </td> <td>No       </td>\n",
       "        </tr>\n",
       "        <tr>\n",
       "            <td>8/7/2020 12:06</td> <td>Female</td> <td>22  </td> <td>Laws                   </td> <td>year 3</td> <td>3.00 - 3.49 </td> <td>Yes    </td> <td>No     </td> <td>No           </td> <td>No       </td>\n",
       "        </tr>\n",
       "        <tr>\n",
       "            <td>8/7/2020 12:32</td> <td>Female</td> <td>23  </td> <td>Pendidikan islam       </td> <td>year 2</td> <td>3.50 - 4.00 </td> <td>Yes    </td> <td>No     </td> <td>Yes          </td> <td>No       </td>\n",
       "        </tr>\n",
       "        <tr>\n",
       "            <td>8/7/2020 12:39</td> <td>Female</td> <td>24  </td> <td>Engineering            </td> <td>Year 3</td> <td>3.50 - 4.00 </td> <td>Yes    </td> <td>No     </td> <td>No           </td> <td>No       </td>\n",
       "        </tr>\n",
       "        <tr>\n",
       "            <td>8/7/2020 12:40</td> <td>Female</td> <td>18  </td> <td>Computer Science       </td> <td>year 1</td> <td>3.00 - 3.49 </td> <td>No     </td> <td>No     </td> <td>No           </td> <td>No       </td>\n",
       "        </tr>\n",
       "        <tr>\n",
       "            <td>8/7/2020 12:52</td> <td>Female</td> <td>24  </td> <td>ENM                    </td> <td>year 4</td> <td>3.00 - 3.49 </td> <td>Yes    </td> <td>Yes    </td> <td>Yes          </td> <td>No       </td>\n",
       "        </tr>\n",
       "        <tr>\n",
       "            <td>8/7/2020 13:07</td> <td>Female</td> <td>18  </td> <td>Marine science         </td> <td>year 2</td> <td>3.50 - 4.00 </td> <td>Yes    </td> <td>Yes    </td> <td>Yes          </td> <td>No       </td>\n",
       "        </tr>\n",
       "        <tr>\n",
       "            <td>8/7/2020 13:17</td> <td>Female</td> <td>23  </td> <td>Computer Science       </td> <td>Year 3</td> <td>3.50 - 4.00 </td> <td>No     </td> <td>Yes    </td> <td>Yes          </td> <td>No       </td>\n",
       "        </tr>\n",
       "        <tr>\n",
       "            <td>8/7/2020 13:41</td> <td>Male  </td> <td>18  </td> <td>Engineering            </td> <td>Year 2</td> <td>3.00 - 3.49 </td> <td>Yes    </td> <td>Yes    </td> <td>No           </td> <td>No       </td>\n",
       "        </tr>\n",
       "    </tbody>\n",
       "</table>\n",
       "<p>... (25 rows omitted)</p>"
      ],
      "text/plain": [
       "Timestamp      | Gender | Age  | Major                   | Year   | GPA          | Married | Anxiety | Panic Attacks | Treatment\n",
       "8/7/2020 12:02 | Female | 18   | Engineering             | year 1 | 3.00 - 3.49  | No      | No      | Yes           | No\n",
       "8/7/2020 12:05 | Male   | 19   | Business Information Te | Year 1 | 3.00 - 3.49  | No      | Yes     | Yes           | No\n",
       "8/7/2020 12:06 | Female | 22   | Laws                    | year 3 | 3.00 - 3.49  | Yes     | No      | No            | No\n",
       "8/7/2020 12:32 | Female | 23   | Pendidikan islam        | year 2 | 3.50 - 4.00  | Yes     | No      | Yes           | No\n",
       "8/7/2020 12:39 | Female | 24   | Engineering             | Year 3 | 3.50 - 4.00  | Yes     | No      | No            | No\n",
       "8/7/2020 12:40 | Female | 18   | Computer Science        | year 1 | 3.00 - 3.49  | No      | No      | No            | No\n",
       "8/7/2020 12:52 | Female | 24   | ENM                     | year 4 | 3.00 - 3.49  | Yes     | Yes     | Yes           | No\n",
       "8/7/2020 13:07 | Female | 18   | Marine science          | year 2 | 3.50 - 4.00  | Yes     | Yes     | Yes           | No\n",
       "8/7/2020 13:17 | Female | 23   | Computer Science        | Year 3 | 3.50 - 4.00  | No      | Yes     | Yes           | No\n",
       "8/7/2020 13:41 | Male   | 18   | Engineering             | Year 2 | 3.00 - 3.49  | Yes     | Yes     | No            | No\n",
       "... (25 rows omitted)"
      ]
     },
     "execution_count": 175,
     "metadata": {},
     "output_type": "execute_result"
    }
   ],
   "source": [
    "students_with_depression.drop(\"Depression\")"
   ]
  },
  {
   "cell_type": "code",
   "execution_count": 177,
   "id": "35539247-7f1b-4a7e-855d-439f07e222a2",
   "metadata": {
    "tags": []
   },
   "outputs": [
    {
     "name": "stdout",
     "output_type": "stream",
     "text": [
      "The total amount of female students that have reported they have depression is  29\n"
     ]
    }
   ],
   "source": [
    "female_students_with_depression = students_with_depression.where(\"Gender\",are.equal_to(\"Female\"))\n",
    "print(\"The total amount of female students that have reported they have depression is \", str(female_students_with_depression.num_rows))"
   ]
  },
  {
   "cell_type": "code",
   "execution_count": 178,
   "id": "c2e61eac-f7a9-493b-b14e-cb8f14907d6a",
   "metadata": {
    "tags": []
   },
   "outputs": [
    {
     "name": "stdout",
     "output_type": "stream",
     "text": [
      "The total amount of male students that have reported they have depression is  6\n"
     ]
    }
   ],
   "source": [
    "male_students_with_depression = students_with_depression.where(\"Gender\",are.equal_to(\"Male\"))\n",
    "print(\"The total amount of male students that have reported they have depression is \", str(male_students_with_depression.num_rows))"
   ]
  },
  {
   "cell_type": "markdown",
   "id": "243f3acc-3be9-4642-83c6-c54b6076dea4",
   "metadata": {},
   "source": [
    "#### Students with Anxiety"
   ]
  },
  {
   "cell_type": "markdown",
   "id": "d50e4a6a-dd78-46c0-88f7-4dcefeec0c7b",
   "metadata": {
    "tags": []
   },
   "source": [
    "This shows all the table and number values of students that have reported anxiety"
   ]
  },
  {
   "cell_type": "code",
   "execution_count": 176,
   "id": "b19aeb6b-3e02-401b-835e-bd35df1c712a",
   "metadata": {
    "tags": []
   },
   "outputs": [
    {
     "name": "stdout",
     "output_type": "stream",
     "text": [
      "The total amount of students that have reported they have anxiety is  34\n"
     ]
    }
   ],
   "source": [
    "students_with_anxiety = students.where(\"Anxiety\",are.equal_to(\"Yes\"))\n",
    "print(\"The total amount of students that have reported they have anxiety is \", str(students_with_anxiety.num_rows))"
   ]
  },
  {
   "cell_type": "code",
   "execution_count": 179,
   "id": "7c785058-5678-439b-845a-6455bca5c392",
   "metadata": {
    "tags": []
   },
   "outputs": [
    {
     "data": {
      "text/html": [
       "<table border=\"1\" class=\"dataframe\">\n",
       "    <thead>\n",
       "        <tr>\n",
       "            <th>Timestamp</th> <th>Gender</th> <th>Age</th> <th>Major</th> <th>Year</th> <th>GPA</th> <th>Married</th> <th>Depression</th> <th>Panic Attacks</th> <th>Treatment</th>\n",
       "        </tr>\n",
       "    </thead>\n",
       "    <tbody>\n",
       "        <tr>\n",
       "            <td>8/7/2020 12:04</td> <td>Male  </td> <td>21  </td> <td>Islamic education      </td> <td>year 2</td> <td>3.00 - 3.49</td> <td>No     </td> <td>No        </td> <td>No           </td> <td>No       </td>\n",
       "        </tr>\n",
       "        <tr>\n",
       "            <td>8/7/2020 12:05</td> <td>Male  </td> <td>19  </td> <td>Business Information Te</td> <td>Year 1</td> <td>3.00 - 3.49</td> <td>No     </td> <td>Yes       </td> <td>Yes          </td> <td>No       </td>\n",
       "        </tr>\n",
       "        <tr>\n",
       "            <td>8/7/2020 12:33</td> <td>Female</td> <td>18  </td> <td>Computer Science       </td> <td>year 1</td> <td>3.50 - 4.00</td> <td>No     </td> <td>No        </td> <td>No           </td> <td>No       </td>\n",
       "        </tr>\n",
       "        <tr>\n",
       "            <td>8/7/2020 12:39</td> <td>Male  </td> <td>18  </td> <td>Irkhs                  </td> <td>year 1</td> <td>3.50 - 4.00</td> <td>No     </td> <td>No        </td> <td>Yes          </td> <td>No       </td>\n",
       "        </tr>\n",
       "        <tr>\n",
       "            <td>8/7/2020 12:43</td> <td>Female</td> <td>18  </td> <td>KENMS                  </td> <td>Year 2</td> <td>3.50 - 4.00</td> <td>No     </td> <td>No        </td> <td>No           </td> <td>No       </td>\n",
       "        </tr>\n",
       "        <tr>\n",
       "            <td>8/7/2020 12:52</td> <td>Female</td> <td>24  </td> <td>ENM                    </td> <td>year 4</td> <td>3.00 - 3.49</td> <td>Yes    </td> <td>Yes       </td> <td>Yes          </td> <td>No       </td>\n",
       "        </tr>\n",
       "        <tr>\n",
       "            <td>8/7/2020 13:05</td> <td>Female</td> <td>20  </td> <td>Business Information Te</td> <td>Year 2</td> <td>3.50 - 4.00</td> <td>No     </td> <td>No        </td> <td>No           </td> <td>No       </td>\n",
       "        </tr>\n",
       "        <tr>\n",
       "            <td>8/7/2020 13:07</td> <td>Female</td> <td>18  </td> <td>Marine science         </td> <td>year 2</td> <td>3.50 - 4.00</td> <td>Yes    </td> <td>Yes       </td> <td>Yes          </td> <td>No       </td>\n",
       "        </tr>\n",
       "        <tr>\n",
       "            <td>8/7/2020 13:17</td> <td>Female</td> <td>23  </td> <td>Computer Science       </td> <td>Year 3</td> <td>3.50 - 4.00</td> <td>No     </td> <td>Yes       </td> <td>Yes          </td> <td>No       </td>\n",
       "        </tr>\n",
       "        <tr>\n",
       "            <td>8/7/2020 13:41</td> <td>Male  </td> <td>18  </td> <td>Engineering            </td> <td>Year 2</td> <td>3.00 - 3.49</td> <td>Yes    </td> <td>Yes       </td> <td>No           </td> <td>No       </td>\n",
       "        </tr>\n",
       "    </tbody>\n",
       "</table>\n",
       "<p>... (24 rows omitted)</p>"
      ],
      "text/plain": [
       "Timestamp      | Gender | Age  | Major                   | Year   | GPA         | Married | Depression | Panic Attacks | Treatment\n",
       "8/7/2020 12:04 | Male   | 21   | Islamic education       | year 2 | 3.00 - 3.49 | No      | No         | No            | No\n",
       "8/7/2020 12:05 | Male   | 19   | Business Information Te | Year 1 | 3.00 - 3.49 | No      | Yes        | Yes           | No\n",
       "8/7/2020 12:33 | Female | 18   | Computer Science        | year 1 | 3.50 - 4.00 | No      | No         | No            | No\n",
       "8/7/2020 12:39 | Male   | 18   | Irkhs                   | year 1 | 3.50 - 4.00 | No      | No         | Yes           | No\n",
       "8/7/2020 12:43 | Female | 18   | KENMS                   | Year 2 | 3.50 - 4.00 | No      | No         | No            | No\n",
       "8/7/2020 12:52 | Female | 24   | ENM                     | year 4 | 3.00 - 3.49 | Yes     | Yes        | Yes           | No\n",
       "8/7/2020 13:05 | Female | 20   | Business Information Te | Year 2 | 3.50 - 4.00 | No      | No         | No            | No\n",
       "8/7/2020 13:07 | Female | 18   | Marine science          | year 2 | 3.50 - 4.00 | Yes     | Yes        | Yes           | No\n",
       "8/7/2020 13:17 | Female | 23   | Computer Science        | Year 3 | 3.50 - 4.00 | No      | Yes        | Yes           | No\n",
       "8/7/2020 13:41 | Male   | 18   | Engineering             | Year 2 | 3.00 - 3.49 | Yes     | Yes        | No            | No\n",
       "... (24 rows omitted)"
      ]
     },
     "execution_count": 179,
     "metadata": {},
     "output_type": "execute_result"
    }
   ],
   "source": [
    "students_with_anxiety.drop(\"Anxiety\")"
   ]
  },
  {
   "cell_type": "code",
   "execution_count": 180,
   "id": "329bb2f6-5e5f-4984-9e17-12fe678207b8",
   "metadata": {
    "tags": []
   },
   "outputs": [
    {
     "name": "stdout",
     "output_type": "stream",
     "text": [
      "The total amount of female students that have reported they have depression is  24\n"
     ]
    }
   ],
   "source": [
    "female_students_with_anxiety = students_with_anxiety.where(\"Gender\",are.equal_to(\"Female\"))\n",
    "print(\"The total amount of female students that have reported they have depression is \", str(female_students_with_anxiety.num_rows))"
   ]
  },
  {
   "cell_type": "code",
   "execution_count": 181,
   "id": "a470e5d7-8f54-46f3-913e-b198d47753fb",
   "metadata": {
    "tags": []
   },
   "outputs": [
    {
     "name": "stdout",
     "output_type": "stream",
     "text": [
      "The total amount of male students that have reported they have depression is  10\n"
     ]
    }
   ],
   "source": [
    "male_students_with_anxiety = students_with_anxiety.where(\"Gender\",are.equal_to(\"Male\"))\n",
    "print(\"The total amount of male students that have reported they have depression is \", str(male_students_with_anxiety.num_rows))"
   ]
  },
  {
   "cell_type": "markdown",
   "id": "4e53e4e9-acb5-466d-9034-45f5d5895d64",
   "metadata": {},
   "source": [
    "#### Majors with overall mental disorders"
   ]
  },
  {
   "cell_type": "code",
   "execution_count": 250,
   "id": "6260f201-277b-4d93-9f07-2462b5ad59da",
   "metadata": {
    "tags": []
   },
   "outputs": [
    {
     "data": {
      "text/html": [
       "<table border=\"1\" class=\"dataframe\">\n",
       "    <thead>\n",
       "        <tr>\n",
       "            <th>Timestamp</th> <th>Gender</th> <th>Age</th> <th>Major</th> <th>Year</th> <th>GPA</th> <th>Married</th> <th>Depression</th> <th>Anxiety</th> <th>Panic Attacks</th> <th>Treatment</th>\n",
       "        </tr>\n",
       "    </thead>\n",
       "    <tbody>\n",
       "        <tr>\n",
       "            <td>8/7/2020 12:04</td> <td>Male  </td> <td>21  </td> <td>Islamic education      </td> <td>year 2</td> <td>3.00 - 3.49</td> <td>No     </td> <td>No        </td> <td>Yes    </td> <td>No           </td> <td>No       </td>\n",
       "        </tr>\n",
       "        <tr>\n",
       "            <td>8/7/2020 12:05</td> <td>Male  </td> <td>19  </td> <td>Business Information Te</td> <td>Year 1</td> <td>3.00 - 3.49</td> <td>No     </td> <td>Yes       </td> <td>Yes    </td> <td>Yes          </td> <td>No       </td>\n",
       "        </tr>\n",
       "        <tr>\n",
       "            <td>8/7/2020 12:33</td> <td>Female</td> <td>18  </td> <td>Computer Science       </td> <td>year 1</td> <td>3.50 - 4.00</td> <td>No     </td> <td>No        </td> <td>Yes    </td> <td>No           </td> <td>No       </td>\n",
       "        </tr>\n",
       "        <tr>\n",
       "            <td>8/7/2020 12:39</td> <td>Male  </td> <td>18  </td> <td>Irkhs                  </td> <td>year 1</td> <td>3.50 - 4.00</td> <td>No     </td> <td>No        </td> <td>Yes    </td> <td>Yes          </td> <td>No       </td>\n",
       "        </tr>\n",
       "        <tr>\n",
       "            <td>8/7/2020 12:43</td> <td>Female</td> <td>18  </td> <td>KENMS                  </td> <td>Year 2</td> <td>3.50 - 4.00</td> <td>No     </td> <td>No        </td> <td>Yes    </td> <td>No           </td> <td>No       </td>\n",
       "        </tr>\n",
       "        <tr>\n",
       "            <td>8/7/2020 12:52</td> <td>Female</td> <td>24  </td> <td>ENM                    </td> <td>year 4</td> <td>3.00 - 3.49</td> <td>Yes    </td> <td>Yes       </td> <td>Yes    </td> <td>Yes          </td> <td>No       </td>\n",
       "        </tr>\n",
       "        <tr>\n",
       "            <td>8/7/2020 13:05</td> <td>Female</td> <td>20  </td> <td>Business Information Te</td> <td>Year 2</td> <td>3.50 - 4.00</td> <td>No     </td> <td>No        </td> <td>Yes    </td> <td>No           </td> <td>No       </td>\n",
       "        </tr>\n",
       "        <tr>\n",
       "            <td>8/7/2020 13:07</td> <td>Female</td> <td>18  </td> <td>Marine science         </td> <td>year 2</td> <td>3.50 - 4.00</td> <td>Yes    </td> <td>Yes       </td> <td>Yes    </td> <td>Yes          </td> <td>No       </td>\n",
       "        </tr>\n",
       "        <tr>\n",
       "            <td>8/7/2020 13:17</td> <td>Female</td> <td>23  </td> <td>Computer Science       </td> <td>Year 3</td> <td>3.50 - 4.00</td> <td>No     </td> <td>Yes       </td> <td>Yes    </td> <td>Yes          </td> <td>No       </td>\n",
       "        </tr>\n",
       "        <tr>\n",
       "            <td>8/7/2020 13:41</td> <td>Male  </td> <td>18  </td> <td>Engineering            </td> <td>Year 2</td> <td>3.00 - 3.49</td> <td>Yes    </td> <td>Yes       </td> <td>Yes    </td> <td>No           </td> <td>No       </td>\n",
       "        </tr>\n",
       "    </tbody>\n",
       "</table>\n",
       "<p>... (92 rows omitted)</p>"
      ],
      "text/plain": [
       "Timestamp      | Gender | Age  | Major                   | Year   | GPA         | Married | Depression | Anxiety | Panic Attacks | Treatment\n",
       "8/7/2020 12:04 | Male   | 21   | Islamic education       | year 2 | 3.00 - 3.49 | No      | No         | Yes     | No            | No\n",
       "8/7/2020 12:05 | Male   | 19   | Business Information Te | Year 1 | 3.00 - 3.49 | No      | Yes        | Yes     | Yes           | No\n",
       "8/7/2020 12:33 | Female | 18   | Computer Science        | year 1 | 3.50 - 4.00 | No      | No         | Yes     | No            | No\n",
       "8/7/2020 12:39 | Male   | 18   | Irkhs                   | year 1 | 3.50 - 4.00 | No      | No         | Yes     | Yes           | No\n",
       "8/7/2020 12:43 | Female | 18   | KENMS                   | Year 2 | 3.50 - 4.00 | No      | No         | Yes     | No            | No\n",
       "8/7/2020 12:52 | Female | 24   | ENM                     | year 4 | 3.00 - 3.49 | Yes     | Yes        | Yes     | Yes           | No\n",
       "8/7/2020 13:05 | Female | 20   | Business Information Te | Year 2 | 3.50 - 4.00 | No      | No         | Yes     | No            | No\n",
       "8/7/2020 13:07 | Female | 18   | Marine science          | year 2 | 3.50 - 4.00 | Yes     | Yes        | Yes     | Yes           | No\n",
       "8/7/2020 13:17 | Female | 23   | Computer Science        | Year 3 | 3.50 - 4.00 | No      | Yes        | Yes     | Yes           | No\n",
       "8/7/2020 13:41 | Male   | 18   | Engineering             | Year 2 | 3.00 - 3.49 | Yes     | Yes        | Yes     | No            | No\n",
       "... (92 rows omitted)"
      ]
     },
     "execution_count": 250,
     "metadata": {},
     "output_type": "execute_result"
    }
   ],
   "source": [
    "anxietytable = students.where(\"Anxiety\",are.equal_to(\"Yes\"))\n",
    "depressiontable = students.where(\"Depression\",are.equal_to(\"Yes\"))\n",
    "panictable = students.where(\"Panic Attacks\",are.equal_to(\"Yes\"))\n",
    "\n",
    "alldisordertable = anxietytable.append(depressiontable)\n",
    "alldisordertable = anxietytable.append(panictable)\n",
    "alldisordertable"
   ]
  },
  {
   "cell_type": "code",
   "execution_count": 251,
   "id": "8032025e-00ef-4d29-9aaf-7500ac950d9d",
   "metadata": {
    "tags": []
   },
   "outputs": [
    {
     "data": {
      "text/html": [
       "<table border=\"1\" class=\"dataframe\">\n",
       "    <thead>\n",
       "        <tr>\n",
       "            <th>Major</th> <th>count</th>\n",
       "        </tr>\n",
       "    </thead>\n",
       "    <tbody>\n",
       "        <tr>\n",
       "            <td>Business Information Te</td> <td>17   </td>\n",
       "        </tr>\n",
       "        <tr>\n",
       "            <td>Engineering            </td> <td>17   </td>\n",
       "        </tr>\n",
       "        <tr>\n",
       "            <td>Computer Science       </td> <td>16   </td>\n",
       "        </tr>\n",
       "        <tr>\n",
       "            <td>Koe                    </td> <td>8    </td>\n",
       "        </tr>\n",
       "        <tr>\n",
       "            <td>Psychology             </td> <td>5    </td>\n",
       "        </tr>\n",
       "        <tr>\n",
       "            <td>BENL                   </td> <td>3    </td>\n",
       "        </tr>\n",
       "        <tr>\n",
       "            <td>Communication          </td> <td>3    </td>\n",
       "        </tr>\n",
       "        <tr>\n",
       "            <td>ENM                    </td> <td>3    </td>\n",
       "        </tr>\n",
       "        <tr>\n",
       "            <td>Marine science         </td> <td>3    </td>\n",
       "        </tr>\n",
       "        <tr>\n",
       "            <td>ALA                    </td> <td>2    </td>\n",
       "        </tr>\n",
       "    </tbody>\n",
       "</table>\n",
       "<p>... (18 rows omitted)</p>"
      ],
      "text/plain": [
       "Major                   | count\n",
       "Business Information Te | 17\n",
       "Engineering             | 17\n",
       "Computer Science        | 16\n",
       "Koe                     | 8\n",
       "Psychology              | 5\n",
       "BENL                    | 3\n",
       "Communication           | 3\n",
       "ENM                     | 3\n",
       "Marine science          | 3\n",
       "ALA                     | 2\n",
       "... (18 rows omitted)"
      ]
     },
     "execution_count": 251,
     "metadata": {},
     "output_type": "execute_result"
    }
   ],
   "source": [
    "alldisordertable.group(\"Major\").sort(\"count\",descending=True)"
   ]
  },
  {
   "cell_type": "markdown",
   "id": "a80260a0-8e5b-449c-bf79-af07313d7f32",
   "metadata": {},
   "source": [
    "#### Majors with Depression"
   ]
  },
  {
   "cell_type": "code",
   "execution_count": 184,
   "id": "70ea1d53-5f73-4b55-a3a9-0258a5b4f090",
   "metadata": {
    "tags": []
   },
   "outputs": [
    {
     "data": {
      "text/html": [
       "<table border=\"1\" class=\"dataframe\">\n",
       "    <thead>\n",
       "        <tr>\n",
       "            <th>Major</th> <th>count</th>\n",
       "        </tr>\n",
       "    </thead>\n",
       "    <tbody>\n",
       "        <tr>\n",
       "            <td>Engineering            </td> <td>7    </td>\n",
       "        </tr>\n",
       "        <tr>\n",
       "            <td>Business Information Te</td> <td>5    </td>\n",
       "        </tr>\n",
       "        <tr>\n",
       "            <td>Computer Science       </td> <td>5    </td>\n",
       "        </tr>\n",
       "        <tr>\n",
       "            <td>BENL                   </td> <td>2    </td>\n",
       "        </tr>\n",
       "        <tr>\n",
       "            <td>Koe                    </td> <td>2    </td>\n",
       "        </tr>\n",
       "        <tr>\n",
       "            <td>Psychology             </td> <td>2    </td>\n",
       "        </tr>\n",
       "        <tr>\n",
       "            <td>ALA                    </td> <td>1    </td>\n",
       "        </tr>\n",
       "        <tr>\n",
       "            <td>Communication          </td> <td>1    </td>\n",
       "        </tr>\n",
       "        <tr>\n",
       "            <td>ENM                    </td> <td>1    </td>\n",
       "        </tr>\n",
       "        <tr>\n",
       "            <td>Econs                  </td> <td>1    </td>\n",
       "        </tr>\n",
       "    </tbody>\n",
       "</table>\n",
       "<p>... (8 rows omitted)</p>"
      ],
      "text/plain": [
       "Major                   | count\n",
       "Engineering             | 7\n",
       "Business Information Te | 5\n",
       "Computer Science        | 5\n",
       "BENL                    | 2\n",
       "Koe                     | 2\n",
       "Psychology              | 2\n",
       "ALA                     | 1\n",
       "Communication           | 1\n",
       "ENM                     | 1\n",
       "Econs                   | 1\n",
       "... (8 rows omitted)"
      ]
     },
     "execution_count": 184,
     "metadata": {},
     "output_type": "execute_result"
    }
   ],
   "source": [
    "students_with_depression.group(\"Major\").sort(\"count\", descending=True)"
   ]
  },
  {
   "cell_type": "code",
   "execution_count": 200,
   "id": "c34e164f-342b-4208-a862-6971a3e02ba6",
   "metadata": {
    "tags": []
   },
   "outputs": [
    {
     "data": {
      "text/html": [
       "<table border=\"1\" class=\"dataframe\">\n",
       "    <thead>\n",
       "        <tr>\n",
       "            <th>Major</th> <th>count</th>\n",
       "        </tr>\n",
       "    </thead>\n",
       "    <tbody>\n",
       "        <tr>\n",
       "            <td>Engineering            </td> <td>5    </td>\n",
       "        </tr>\n",
       "        <tr>\n",
       "            <td>Business Information Te</td> <td>4    </td>\n",
       "        </tr>\n",
       "        <tr>\n",
       "            <td>Computer Science       </td> <td>3    </td>\n",
       "        </tr>\n",
       "        <tr>\n",
       "            <td>BENL                   </td> <td>2    </td>\n",
       "        </tr>\n",
       "        <tr>\n",
       "            <td>Koe                    </td> <td>2    </td>\n",
       "        </tr>\n",
       "        <tr>\n",
       "            <td>Psychology             </td> <td>2    </td>\n",
       "        </tr>\n",
       "        <tr>\n",
       "            <td>ALA                    </td> <td>1    </td>\n",
       "        </tr>\n",
       "        <tr>\n",
       "            <td>Communication          </td> <td>1    </td>\n",
       "        </tr>\n",
       "        <tr>\n",
       "            <td>ENM                    </td> <td>1    </td>\n",
       "        </tr>\n",
       "        <tr>\n",
       "            <td>Econs                  </td> <td>1    </td>\n",
       "        </tr>\n",
       "    </tbody>\n",
       "</table>\n",
       "<p>... (7 rows omitted)</p>"
      ],
      "text/plain": [
       "Major                   | count\n",
       "Engineering             | 5\n",
       "Business Information Te | 4\n",
       "Computer Science        | 3\n",
       "BENL                    | 2\n",
       "Koe                     | 2\n",
       "Psychology              | 2\n",
       "ALA                     | 1\n",
       "Communication           | 1\n",
       "ENM                     | 1\n",
       "Econs                   | 1\n",
       "... (7 rows omitted)"
      ]
     },
     "execution_count": 200,
     "metadata": {},
     "output_type": "execute_result"
    }
   ],
   "source": [
    "female_students_with_depression.group(\"Major\").sort(\"count\", descending=True)"
   ]
  },
  {
   "cell_type": "code",
   "execution_count": 201,
   "id": "438585d4-b85a-4d00-8d41-f1b94d3221f9",
   "metadata": {
    "tags": []
   },
   "outputs": [
    {
     "data": {
      "text/html": [
       "<table border=\"1\" class=\"dataframe\">\n",
       "    <thead>\n",
       "        <tr>\n",
       "            <th>Major</th> <th>count</th>\n",
       "        </tr>\n",
       "    </thead>\n",
       "    <tbody>\n",
       "        <tr>\n",
       "            <td>Computer Science       </td> <td>2    </td>\n",
       "        </tr>\n",
       "        <tr>\n",
       "            <td>Engineering            </td> <td>2    </td>\n",
       "        </tr>\n",
       "        <tr>\n",
       "            <td>Business Information Te</td> <td>1    </td>\n",
       "        </tr>\n",
       "        <tr>\n",
       "            <td>MHSC                   </td> <td>1    </td>\n",
       "        </tr>\n",
       "    </tbody>\n",
       "</table>"
      ],
      "text/plain": [
       "Major                   | count\n",
       "Computer Science        | 2\n",
       "Engineering             | 2\n",
       "Business Information Te | 1\n",
       "MHSC                    | 1"
      ]
     },
     "execution_count": 201,
     "metadata": {},
     "output_type": "execute_result"
    }
   ],
   "source": [
    "male_students_with_depression.group(\"Major\").sort(\"count\", descending=True)"
   ]
  },
  {
   "cell_type": "code",
   "execution_count": 203,
   "id": "42c815c9-f524-40ab-9176-60cb82ea5b90",
   "metadata": {},
   "outputs": [
    {
     "data": {
      "text/html": [
       "<table border=\"1\" class=\"dataframe\">\n",
       "    <thead>\n",
       "        <tr>\n",
       "            <th>Major</th> <th>count</th>\n",
       "        </tr>\n",
       "    </thead>\n",
       "    <tbody>\n",
       "        <tr>\n",
       "            <td>Engineering            </td> <td>5    </td>\n",
       "        </tr>\n",
       "        <tr>\n",
       "            <td>Business Information Te</td> <td>4    </td>\n",
       "        </tr>\n",
       "        <tr>\n",
       "            <td>Computer Science       </td> <td>3    </td>\n",
       "        </tr>\n",
       "        <tr>\n",
       "            <td>BENL                   </td> <td>2    </td>\n",
       "        </tr>\n",
       "        <tr>\n",
       "            <td>Koe                    </td> <td>2    </td>\n",
       "        </tr>\n",
       "        <tr>\n",
       "            <td>Psychology             </td> <td>2    </td>\n",
       "        </tr>\n",
       "        <tr>\n",
       "            <td>ALA                    </td> <td>1    </td>\n",
       "        </tr>\n",
       "        <tr>\n",
       "            <td>Communication          </td> <td>1    </td>\n",
       "        </tr>\n",
       "        <tr>\n",
       "            <td>ENM                    </td> <td>1    </td>\n",
       "        </tr>\n",
       "        <tr>\n",
       "            <td>Econs                  </td> <td>1    </td>\n",
       "        </tr>\n",
       "    </tbody>\n",
       "</table>\n",
       "<p>... (7 rows omitted)</p>"
      ],
      "text/plain": [
       "Major                   | count\n",
       "Engineering             | 5\n",
       "Business Information Te | 4\n",
       "Computer Science        | 3\n",
       "BENL                    | 2\n",
       "Koe                     | 2\n",
       "Psychology              | 2\n",
       "ALA                     | 1\n",
       "Communication           | 1\n",
       "ENM                     | 1\n",
       "Econs                   | 1\n",
       "... (7 rows omitted)"
      ]
     },
     "execution_count": 203,
     "metadata": {},
     "output_type": "execute_result"
    }
   ],
   "source": [
    "female_students_with_depression.group(\"Major\").sort(\"count\", descending=True)"
   ]
  },
  {
   "cell_type": "code",
   "execution_count": 204,
   "id": "f364584d-eae0-4086-b644-2dffc369604d",
   "metadata": {
    "tags": []
   },
   "outputs": [
    {
     "data": {
      "text/html": [
       "<table border=\"1\" class=\"dataframe\">\n",
       "    <thead>\n",
       "        <tr>\n",
       "            <th>Major</th> <th>count</th>\n",
       "        </tr>\n",
       "    </thead>\n",
       "    <tbody>\n",
       "        <tr>\n",
       "            <td>Business Information Te</td> <td>3    </td>\n",
       "        </tr>\n",
       "        <tr>\n",
       "            <td>Computer Science       </td> <td>2    </td>\n",
       "        </tr>\n",
       "        <tr>\n",
       "            <td>Engineering            </td> <td>2    </td>\n",
       "        </tr>\n",
       "        <tr>\n",
       "            <td>Irkhs                  </td> <td>1    </td>\n",
       "        </tr>\n",
       "        <tr>\n",
       "            <td>Islamic education      </td> <td>1    </td>\n",
       "        </tr>\n",
       "        <tr>\n",
       "            <td>Koe                    </td> <td>1    </td>\n",
       "        </tr>\n",
       "    </tbody>\n",
       "</table>"
      ],
      "text/plain": [
       "Major                   | count\n",
       "Business Information Te | 3\n",
       "Computer Science        | 2\n",
       "Engineering             | 2\n",
       "Irkhs                   | 1\n",
       "Islamic education       | 1\n",
       "Koe                     | 1"
      ]
     },
     "execution_count": 204,
     "metadata": {},
     "output_type": "execute_result"
    }
   ],
   "source": [
    "male_students_with_anxiety.group(\"Major\").sort(\"count\", descending=True)"
   ]
  },
  {
   "cell_type": "markdown",
   "id": "d37a91b1-a08c-4042-891c-a23a8d8c5369",
   "metadata": {},
   "source": [
    "## Probability"
   ]
  },
  {
   "cell_type": "markdown",
   "id": "4137d9c8-8dd7-4010-bcb5-c573cb285898",
   "metadata": {},
   "source": [
    "The percentage of all students that have depression"
   ]
  },
  {
   "cell_type": "code",
   "execution_count": 208,
   "id": "8b5ecbb6-6abf-45ef-8207-59ea23de839d",
   "metadata": {
    "tags": []
   },
   "outputs": [
    {
     "data": {
      "text/plain": [
       "34.653465346534652"
      ]
     },
     "execution_count": 208,
     "metadata": {},
     "output_type": "execute_result"
    }
   ],
   "source": [
    "student_depression_percentage = 100*sum(students_with_depression.group(\"Major\").column(\"count\"))/sum(students.group(\"Major\").column(\"count\"))\n",
    "student_depression_percentage"
   ]
  },
  {
   "cell_type": "markdown",
   "id": "6b5c0d90-eef7-498b-bed7-96323c78388f",
   "metadata": {},
   "source": [
    "The percentage of all students that have anxiety"
   ]
  },
  {
   "cell_type": "code",
   "execution_count": 209,
   "id": "f7509437-a9e4-4a72-8750-5ff08865303e",
   "metadata": {
    "tags": []
   },
   "outputs": [
    {
     "data": {
      "text/plain": [
       "33.663366336633665"
      ]
     },
     "execution_count": 209,
     "metadata": {},
     "output_type": "execute_result"
    }
   ],
   "source": [
    "student_anxiety_percentage = 100*sum(students_with_anxiety.group(\"Major\").column(\"count\"))/sum(students.group(\"Major\").column(\"count\"))\n",
    "student_anxiety_percentage"
   ]
  },
  {
   "cell_type": "code",
   "execution_count": 215,
   "id": "0030bd6e-7331-478b-95be-2533a177b4e6",
   "metadata": {
    "tags": []
   },
   "outputs": [
    {
     "data": {
      "text/plain": [
       "28.712871287128714"
      ]
     },
     "execution_count": 215,
     "metadata": {},
     "output_type": "execute_result"
    }
   ],
   "source": [
    "female_student_depression_percentage = 100*sum(female_students_with_depression.group(\"Major\").column(\"count\"))/sum(students.group(\"Major\").column(\"count\"))\n",
    "female_student_depression_percentage"
   ]
  },
  {
   "cell_type": "code",
   "execution_count": 216,
   "id": "adb2f53d-6deb-45fc-a753-27b262f42270",
   "metadata": {
    "tags": []
   },
   "outputs": [
    {
     "data": {
      "text/plain": [
       "5.9405940594059405"
      ]
     },
     "execution_count": 216,
     "metadata": {},
     "output_type": "execute_result"
    }
   ],
   "source": [
    "male_student_depression_percentage = 100*sum(male_students_with_depression.group(\"Major\").column(\"count\"))/sum(students.group(\"Major\").column(\"count\"))\n",
    "male_student_depression_percentage"
   ]
  },
  {
   "cell_type": "code",
   "execution_count": 211,
   "id": "9b1765b7-1cc4-4c41-8336-72ffd6ba9c44",
   "metadata": {
    "tags": []
   },
   "outputs": [
    {
     "data": {
      "text/plain": [
       "23.762376237623762"
      ]
     },
     "execution_count": 211,
     "metadata": {},
     "output_type": "execute_result"
    }
   ],
   "source": [
    "female_student_anxiety_percentage = 100*sum(female_students_with_anxiety.group(\"Major\").column(\"count\"))/sum(students.group(\"Major\").column(\"count\"))\n",
    "female_student_anxiety_percentage"
   ]
  },
  {
   "cell_type": "code",
   "execution_count": 213,
   "id": "2090779c-f4ec-4950-8989-27fc3bb1d4aa",
   "metadata": {
    "tags": []
   },
   "outputs": [
    {
     "data": {
      "text/plain": [
       "9.9009900990099009"
      ]
     },
     "execution_count": 213,
     "metadata": {},
     "output_type": "execute_result"
    }
   ],
   "source": [
    "male_student_anxiety_percentage = 100*sum(male_students_with_anxiety.group(\"Major\").column(\"count\"))/sum(students.group(\"Major\").column(\"count\"))\n",
    "male_student_anxiety_percentage"
   ]
  },
  {
   "cell_type": "markdown",
   "id": "11751e3a-6df4-49ab-9f51-a2e16920eeee",
   "metadata": {},
   "source": [
    "### Probability with iterations"
   ]
  },
  {
   "cell_type": "markdown",
   "id": "7efea7ae-a371-4651-a66a-ddb1c03e4d38",
   "metadata": {},
   "source": [
    "Probability of random chance students will face a form of mental disorder"
   ]
  },
  {
   "cell_type": "code",
   "execution_count": 264,
   "id": "30e153c8-36e3-41f9-a4b0-aca6d45bf42a",
   "metadata": {
    "tags": []
   },
   "outputs": [
    {
     "data": {
      "text/plain": [
       "90.099009900990097"
      ]
     },
     "execution_count": 264,
     "metadata": {},
     "output_type": "execute_result"
    }
   ],
   "source": [
    "depression_option = students.group(\"Depression\").column(\"Depression\")\n",
    "anxiety_option = students.group(\"Anxiety\").column(\"Anxiety\")\n",
    "panic_attack_option = students.group(\"Panic Attacks\").column(\"Panic Attacks\")\n",
    "num_observations = sum(students.group(\"Major\").column(\"count\"))\n",
    "\n",
    "yes = 0\n",
    "no = 0\n",
    "for obs in range(num_observations):\n",
    "    anxiety = np.random.choice(anxiety_option)\n",
    "    depression = np.random.choice(depression_option)\n",
    "    panic_attack = np.random.choice(panic_attack_option)\n",
    "    if anxiety == 'Yes':\n",
    "        yes += 1\n",
    "    elif depression == 'Yes':\n",
    "        yes += 1\n",
    "    elif panic_attack == 'Yes':\n",
    "        yes += 1\n",
    "    else:\n",
    "        no+=1\n",
    "simulated_num_disorder = yes/num_observations\n",
    "simulated_num_disorder = 100*(simulated_num_disorder)\n",
    "simulated_num_disorder\n",
    "    "
   ]
  },
  {
   "cell_type": "markdown",
   "id": "337a25c9-a2b9-471f-b4c8-404d9807d8dc",
   "metadata": {},
   "source": [
    "Female Probability"
   ]
  },
  {
   "cell_type": "code",
   "execution_count": 265,
   "id": "8128e8d1-28ba-433a-b1a0-c7706f8e433a",
   "metadata": {
    "tags": []
   },
   "outputs": [
    {
     "data": {
      "text/plain": [
       "89.10891089108911"
      ]
     },
     "execution_count": 265,
     "metadata": {},
     "output_type": "execute_result"
    }
   ],
   "source": [
    "depression_option = students.where(\"Gender\",are.equal_to(\"Female\")).group(\"Depression\").column(\"Depression\")\n",
    "anxiety_option = students.where(\"Gender\",are.equal_to(\"Female\")).group(\"Anxiety\").column(\"Anxiety\")\n",
    "panic_attack_option = students.where(\"Gender\",are.equal_to(\"Female\")).group(\"Panic Attacks\").column(\"Panic Attacks\")\n",
    "num_observations = sum(students.group(\"Major\").column(\"count\"))\n",
    "\n",
    "yes = 0\n",
    "no = 0\n",
    "for obs in range(num_observations):\n",
    "    anxiety = np.random.choice(anxiety_option)\n",
    "    depression = np.random.choice(depression_option)\n",
    "    panic_attack = np.random.choice(panic_attack_option)\n",
    "    if anxiety == 'Yes':\n",
    "        yes += 1\n",
    "    elif depression == 'Yes':\n",
    "        yes += 1\n",
    "    elif panic_attack == 'Yes':\n",
    "        yes += 1\n",
    "    else:\n",
    "        no+=1\n",
    "simulated_num_disorder = yes/num_observations\n",
    "simulated_num_disorder = 100*(simulated_num_disorder)\n",
    "simulated_num_disorder"
   ]
  },
  {
   "cell_type": "markdown",
   "id": "8708cb7c-99ad-47bc-acd9-2cd276793bfd",
   "metadata": {},
   "source": [
    "Male Probability"
   ]
  },
  {
   "cell_type": "code",
   "execution_count": 266,
   "id": "332c4007-83fe-4c38-afa3-d346f3c82b84",
   "metadata": {
    "tags": []
   },
   "outputs": [
    {
     "data": {
      "text/plain": [
       "86.138613861386133"
      ]
     },
     "execution_count": 266,
     "metadata": {},
     "output_type": "execute_result"
    }
   ],
   "source": [
    "depression_option = students.where(\"Gender\",are.equal_to(\"Male\")).group(\"Depression\").column(\"Depression\")\n",
    "anxiety_option = students.where(\"Gender\",are.equal_to(\"Male\")).group(\"Anxiety\").column(\"Anxiety\")\n",
    "panic_attack_option = students.where(\"Gender\",are.equal_to(\"Male\")).group(\"Panic Attacks\").column(\"Panic Attacks\")\n",
    "num_observations = sum(students.group(\"Major\").column(\"count\"))\n",
    "\n",
    "yes = 0\n",
    "no = 0\n",
    "for obs in range(num_observations):\n",
    "    anxiety = np.random.choice(anxiety_option)\n",
    "    depression = np.random.choice(depression_option)\n",
    "    panic_attack = np.random.choice(panic_attack_option)\n",
    "    if anxiety == 'Yes':\n",
    "        yes += 1\n",
    "    elif depression == 'Yes':\n",
    "        yes += 1\n",
    "    elif panic_attack == 'Yes':\n",
    "        yes += 1\n",
    "    else:\n",
    "        no+=1\n",
    "simulated_num_disorder = yes/num_observations\n",
    "simulated_num_disorder = 100*(simulated_num_disorder)\n",
    "simulated_num_disorder"
   ]
  },
  {
   "cell_type": "markdown",
   "id": "b62f8e6b-c8fc-4e69-9d39-bb68dc683e2b",
   "metadata": {},
   "source": [
    "Probability of depression"
   ]
  },
  {
   "cell_type": "code",
   "execution_count": 267,
   "id": "101ca3e3-7285-4e03-b93b-6aa4413a9446",
   "metadata": {
    "tags": []
   },
   "outputs": [
    {
     "data": {
      "text/plain": [
       "55.445544554455452"
      ]
     },
     "execution_count": 267,
     "metadata": {},
     "output_type": "execute_result"
    }
   ],
   "source": [
    "depression_option = students.group(\"Depression\").column(\"Depression\")\n",
    "num_observations = sum(students.group(\"Major\").column(\"count\"))\n",
    "\n",
    "yes = 0\n",
    "no = 0\n",
    "for obs in range(num_observations):\n",
    "    depression = np.random.choice(depression_option)\n",
    "    if depression == 'Yes':\n",
    "        yes += 1\n",
    "    else:\n",
    "        no+=1\n",
    "simulated_num_disorder = yes/num_observations\n",
    "simulated_num_disorder = 100*(simulated_num_disorder)\n",
    "simulated_num_disorder\n",
    "    "
   ]
  },
  {
   "cell_type": "markdown",
   "id": "0023cf60-979a-41c6-ab86-95e6fc53f85c",
   "metadata": {},
   "source": [
    "Probability of Students with Business Information Techology Degree having a form of mental disorder"
   ]
  },
  {
   "cell_type": "code",
   "execution_count": 275,
   "id": "f2e397e7-a74f-4bfb-acd1-a2811c537426",
   "metadata": {
    "tags": []
   },
   "outputs": [],
   "source": [
    "anxiety_option = students.where(\"Major\",are.equal_to(\"Business Information Te\")).group(\"Anxiety\").column(\"Anxiety\")\n",
    "depression_option = students.where(\"Major\",are.equal_to(\"Business Information Te\")).group(\"Depression\").column(\"Depression\")\n",
    "panic_attack_option = students.where(\"Major\",are.equal_to(\"Business Information Te\")).group(\"Panic Attacks\").column(\"Panic Attacks\")\n",
    "num_observations = sum(students.group(\"Major\").column(\"count\"))"
   ]
  },
  {
   "cell_type": "code",
   "execution_count": 276,
   "id": "094b39a0-4367-481c-a61a-22413a604c16",
   "metadata": {
    "tags": []
   },
   "outputs": [
    {
     "data": {
      "text/plain": [
       "88.118811881188122"
      ]
     },
     "execution_count": 276,
     "metadata": {},
     "output_type": "execute_result"
    }
   ],
   "source": [
    "yes = 0\n",
    "no = 0\n",
    "for obs in range(num_observations):\n",
    "    anxiety = np.random.choice(anxiety_option)\n",
    "    depression = np.random.choice(depression_option)\n",
    "    panic_attack = np.random.choice(panic_attack_option)\n",
    "    if anxiety == 'Yes':\n",
    "        yes += 1\n",
    "    elif depression == 'Yes':\n",
    "        yes += 1\n",
    "    elif panic_attack == 'Yes':\n",
    "        yes += 1\n",
    "    else:\n",
    "        no+=1\n",
    "simulated_num_disorder = yes/num_observations\n",
    "simulated_num_disorder = 100*(simulated_num_disorder)\n",
    "simulated_num_disorder"
   ]
  },
  {
   "cell_type": "markdown",
   "id": "379717d0-2be4-4d39-a05d-9ad0db48aec4",
   "metadata": {},
   "source": [
    "### Simulation"
   ]
  },
  {
   "cell_type": "code",
   "execution_count": 303,
   "id": "1c87cc57-cd94-44e3-9af2-fae7a406bcd4",
   "metadata": {
    "tags": []
   },
   "outputs": [
    {
     "data": {
      "text/html": [
       "<table border=\"1\" class=\"dataframe\">\n",
       "    <thead>\n",
       "        <tr>\n",
       "            <th>Timestamp</th> <th>Gender</th> <th>Age</th> <th>Major</th> <th>Year</th> <th>GPA</th> <th>Married</th> <th>Depression</th> <th>Anxiety</th> <th>Panic Attacks</th> <th>Treatment</th>\n",
       "        </tr>\n",
       "    </thead>\n",
       "    <tbody>\n",
       "        <tr>\n",
       "            <td>9/7/2020 11:43     </td> <td>Male  </td> <td>24  </td> <td>Business Information Te</td> <td>Year 3</td> <td>3.50 - 4.00</td> <td>No     </td> <td>No        </td> <td>Yes    </td> <td>No           </td> <td>No       </td>\n",
       "        </tr>\n",
       "        <tr>\n",
       "            <td>8/7/2020 16:53     </td> <td>Female</td> <td>19  </td> <td>Computer Science       </td> <td>year 1</td> <td>3.50 - 4.00</td> <td>No     </td> <td>No        </td> <td>No     </td> <td>No           </td> <td>No       </td>\n",
       "        </tr>\n",
       "        <tr>\n",
       "            <td>13/07/2020 10:14:46</td> <td>Male  </td> <td>23  </td> <td>Radiography            </td> <td>year 1</td> <td>3.00 - 3.49</td> <td>No     </td> <td>No        </td> <td>No     </td> <td>No           </td> <td>No       </td>\n",
       "        </tr>\n",
       "        <tr>\n",
       "            <td>13/07/2020 13:57:11</td> <td>Female</td> <td>23  </td> <td>DIPLOMA TESL           </td> <td>Year 3</td> <td>3.50 - 4.00</td> <td>No     </td> <td>No        </td> <td>No     </td> <td>Yes          </td> <td>No       </td>\n",
       "        </tr>\n",
       "        <tr>\n",
       "            <td>8/7/2020 15:08     </td> <td>Male  </td> <td>23  </td> <td>TAASL                  </td> <td>year 2</td> <td>3.50 - 4.00</td> <td>No     </td> <td>No        </td> <td>No     </td> <td>Yes          </td> <td>No       </td>\n",
       "        </tr>\n",
       "        <tr>\n",
       "            <td>8/7/2020 12:02     </td> <td>Female</td> <td>18  </td> <td>Engineering            </td> <td>year 1</td> <td>3.00 - 3.49</td> <td>No     </td> <td>Yes       </td> <td>No     </td> <td>Yes          </td> <td>No       </td>\n",
       "        </tr>\n",
       "        <tr>\n",
       "            <td>8/7/2020 17:46     </td> <td>Female</td> <td>24  </td> <td>Engineering            </td> <td>year 1</td> <td>3.50 - 4.00</td> <td>No     </td> <td>No        </td> <td>No     </td> <td>No           </td> <td>No       </td>\n",
       "        </tr>\n",
       "        <tr>\n",
       "            <td>13/07/2020 14:48:05</td> <td>Female</td> <td>19  </td> <td>Koe                    </td> <td>year 2</td> <td>3.00 - 3.49</td> <td>Yes    </td> <td>Yes       </td> <td>No     </td> <td>No           </td> <td>No       </td>\n",
       "        </tr>\n",
       "        <tr>\n",
       "            <td>8/7/2020 17:37     </td> <td>Female</td> <td>24  </td> <td>Engineering            </td> <td>year 1</td> <td>3.50 - 4.00</td> <td>No     </td> <td>No        </td> <td>No     </td> <td>Yes          </td> <td>No       </td>\n",
       "        </tr>\n",
       "        <tr>\n",
       "            <td>8/7/2020 13:05     </td> <td>Female</td> <td>20  </td> <td>Business Information Te</td> <td>Year 2</td> <td>3.50 - 4.00</td> <td>No     </td> <td>No        </td> <td>Yes    </td> <td>No           </td> <td>No       </td>\n",
       "        </tr>\n",
       "    </tbody>\n",
       "</table>"
      ],
      "text/plain": [
       "Timestamp           | Gender | Age  | Major                   | Year   | GPA         | Married | Depression | Anxiety | Panic Attacks | Treatment\n",
       "9/7/2020 11:43      | Male   | 24   | Business Information Te | Year 3 | 3.50 - 4.00 | No      | No         | Yes     | No            | No\n",
       "8/7/2020 16:53      | Female | 19   | Computer Science        | year 1 | 3.50 - 4.00 | No      | No         | No      | No            | No\n",
       "13/07/2020 10:14:46 | Male   | 23   | Radiography             | year 1 | 3.00 - 3.49 | No      | No         | No      | No            | No\n",
       "13/07/2020 13:57:11 | Female | 23   | DIPLOMA TESL            | Year 3 | 3.50 - 4.00 | No      | No         | No      | Yes           | No\n",
       "8/7/2020 15:08      | Male   | 23   | TAASL                   | year 2 | 3.50 - 4.00 | No      | No         | No      | Yes           | No\n",
       "8/7/2020 12:02      | Female | 18   | Engineering             | year 1 | 3.00 - 3.49 | No      | Yes        | No      | Yes           | No\n",
       "8/7/2020 17:46      | Female | 24   | Engineering             | year 1 | 3.50 - 4.00 | No      | No         | No      | No            | No\n",
       "13/07/2020 14:48:05 | Female | 19   | Koe                     | year 2 | 3.00 - 3.49 | Yes     | Yes        | No      | No            | No\n",
       "8/7/2020 17:37      | Female | 24   | Engineering             | year 1 | 3.50 - 4.00 | No      | No         | No      | Yes           | No\n",
       "8/7/2020 13:05      | Female | 20   | Business Information Te | Year 2 | 3.50 - 4.00 | No      | No         | Yes     | No            | No"
      ]
     },
     "execution_count": 303,
     "metadata": {},
     "output_type": "execute_result"
    }
   ],
   "source": [
    "student_sample = students.sample(10)\n",
    "student_sample"
   ]
  },
  {
   "cell_type": "markdown",
   "id": "bc75d048-c3b2-4230-bf9c-61fca9a84d07",
   "metadata": {},
   "source": [
    "Depression probability sample"
   ]
  },
  {
   "cell_type": "code",
   "execution_count": 304,
   "id": "c42ce7d4-10ed-46fe-ab09-f5b77a42832b",
   "metadata": {
    "tags": []
   },
   "outputs": [
    {
     "data": {
      "text/plain": [
       "20.0"
      ]
     },
     "execution_count": 304,
     "metadata": {},
     "output_type": "execute_result"
    }
   ],
   "source": [
    "100*(sum(student_sample.where(\"Depression\", are.equal_to(\"Yes\")).group(\"Major\").column(\"count\"))/sum(student_sample.group(\"Major\").column(\"count\")))"
   ]
  },
  {
   "cell_type": "markdown",
   "id": "95771163-094d-4f65-9184-0901f3e952d8",
   "metadata": {},
   "source": [
    "Anxiety Probability Sample"
   ]
  },
  {
   "cell_type": "code",
   "execution_count": 305,
   "id": "88972cd4-ade2-4a6b-8f00-b6bd6c799a6d",
   "metadata": {
    "tags": []
   },
   "outputs": [
    {
     "data": {
      "text/plain": [
       "20.0"
      ]
     },
     "execution_count": 305,
     "metadata": {},
     "output_type": "execute_result"
    }
   ],
   "source": [
    "100*(sum(student_sample.where(\"Anxiety\", are.equal_to(\"Yes\")).group(\"Major\").column(\"count\"))/sum(student_sample.group(\"Major\").column(\"count\")))"
   ]
  },
  {
   "cell_type": "markdown",
   "id": "7d959bc9-8210-40dc-a2d5-5bc58609b06e",
   "metadata": {},
   "source": []
  }
 ],
 "metadata": {
  "kernelspec": {
   "display_name": "Python 3 (ipykernel)",
   "language": "python",
   "name": "python3"
  },
  "language_info": {
   "codemirror_mode": {
    "name": "ipython",
    "version": 3
   },
   "file_extension": ".py",
   "mimetype": "text/x-python",
   "name": "python",
   "nbconvert_exporter": "python",
   "pygments_lexer": "ipython3",
   "version": "3.10.10"
  }
 },
 "nbformat": 4,
 "nbformat_minor": 5
}
